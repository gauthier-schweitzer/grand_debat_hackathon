{
 "cells": [
  {
   "cell_type": "code",
   "execution_count": 1,
   "metadata": {},
   "outputs": [],
   "source": [
    "import pandas as pd\n",
    "import numpy as np"
   ]
  },
  {
   "cell_type": "markdown",
   "metadata": {},
   "source": [
    "## CSV Importation and transformation"
   ]
  },
  {
   "cell_type": "markdown",
   "metadata": {},
   "source": [
    "We import the csv file"
   ]
  },
  {
   "cell_type": "code",
   "execution_count": 2,
   "metadata": {},
   "outputs": [
    {
     "name": "stderr",
     "output_type": "stream",
     "text": [
      "C:\\ProgramData\\Anaconda3\\lib\\site-packages\\IPython\\core\\interactiveshell.py:2785: DtypeWarning: Columns (7) have mixed types. Specify dtype option on import or set low_memory=False.\n",
      "  interactivity=interactivity, compiler=compiler, result=result)\n"
     ]
    },
    {
     "data": {
      "text/html": [
       "<div>\n",
       "<style scoped>\n",
       "    .dataframe tbody tr th:only-of-type {\n",
       "        vertical-align: middle;\n",
       "    }\n",
       "\n",
       "    .dataframe tbody tr th {\n",
       "        vertical-align: top;\n",
       "    }\n",
       "\n",
       "    .dataframe thead th {\n",
       "        text-align: right;\n",
       "    }\n",
       "</style>\n",
       "<table border=\"1\" class=\"dataframe\">\n",
       "  <thead>\n",
       "    <tr style=\"text-align: right;\">\n",
       "      <th></th>\n",
       "      <th>id</th>\n",
       "      <th>reference</th>\n",
       "      <th>title</th>\n",
       "      <th>createdAt</th>\n",
       "      <th>publishedAt</th>\n",
       "      <th>updatedAt</th>\n",
       "      <th>trashed</th>\n",
       "      <th>trashedStatus</th>\n",
       "      <th>authorId</th>\n",
       "      <th>authorType</th>\n",
       "      <th>...</th>\n",
       "      <th>QUXVlc3Rpb246MTk0 - Si vous avez été amené à préparer votre retraite, pouvez-vous indiquer les éléments de satisfaction et/ou les difficultés rencontrés en précisant, pour chaque point, l'administration concernée :</th>\n",
       "      <th>QUXVlc3Rpb246MTk1 - Si vous avez été amené à demander un remboursement de soins de santé, pouvez-vous indiquer les éléments de satisfaction et/ou les difficultés rencontrés en précisant, pour chaque point, l'administration concernée :</th>\n",
       "      <th>QUXVlc3Rpb246MTk2 - Si vous avez été amené à faire une demande d'aide pour une situation de handicap, pouvez-vous indiquer les éléments de satisfaction et/ou les difficultés rencontrés en précisant, pour chaque point, l'administration concernée :</th>\n",
       "      <th>QUXVlc3Rpb246MTk4 - Si vous avez été amené à créer une entreprise, pouvez-vous indiquer les éléments de satisfaction et/ou les difficultés rencontrés en précisant, pour chaque point, l'administration concernée :</th>\n",
       "      <th>QUXVlc3Rpb246MTk5 - Si vous avez été amené à recruter du personnel, pouvez-vous indiquer les éléments de satisfaction et/ou les difficultés rencontrés en précisant, pour chaque point, l'administration concernée :</th>\n",
       "      <th>QUXVlc3Rpb246MjAw - Si vous avez été amené à former du personnel, pouvez-vous indiquer les éléments de satisfaction et/ou les difficultés rencontrés en précisant, pour chaque point, l'administration concernée :</th>\n",
       "      <th>QUXVlc3Rpb246MjAx - Si vous avez été amené à rémunérer du personnel, pouvez-vous indiquer les éléments de satisfaction et/ou les difficultés rencontrés en précisant, pour chaque point, l'administration concernée :</th>\n",
       "      <th>QUXVlc3Rpb246MjAy - Si vous avez été amené à mettre fin à votre activité, pouvez-vous indiquer les éléments de satisfaction et/ou les difficultés rencontrés en précisant, pour chaque point, l'administration concernée :</th>\n",
       "      <th>QUXVlc3Rpb246MjAz - Si vous avez été amené à recruter une personne portant un handicap, pouvez-vous indiquer les éléments de satisfaction et/ou les difficultés rencontrés en précisant, pour chaque point, l'administration concernée :</th>\n",
       "      <th>QUXVlc3Rpb246MTg5 - Y a-t-il d'autres points sur l'organisation de l'Etat et des services publics sur lesquels vous souhaiteriez vous exprimer ?</th>\n",
       "    </tr>\n",
       "  </thead>\n",
       "  <tbody>\n",
       "    <tr>\n",
       "      <th>0</th>\n",
       "      <td>UHJvcG9zYWw6NjllZDU1NzItMWUyMS0xMWU5LTk0ZDItZm...</td>\n",
       "      <td>4-3</td>\n",
       "      <td>Les avantages</td>\n",
       "      <td>2019-01-22 09:40:47</td>\n",
       "      <td>2019-01-22 09:40:47</td>\n",
       "      <td>NaN</td>\n",
       "      <td>False</td>\n",
       "      <td>NaN</td>\n",
       "      <td>VXNlcjo4Mjc4NzQxYS0xZTFkLTExZTktOTRkMi1mYTE2M2...</td>\n",
       "      <td>Citoyen / Citoyenne</td>\n",
       "      <td>...</td>\n",
       "      <td>NaN</td>\n",
       "      <td>NaN</td>\n",
       "      <td>NaN</td>\n",
       "      <td>NaN</td>\n",
       "      <td>NaN</td>\n",
       "      <td>NaN</td>\n",
       "      <td>NaN</td>\n",
       "      <td>NaN</td>\n",
       "      <td>NaN</td>\n",
       "      <td>Les anciens Présidents, anciens membres du gou...</td>\n",
       "    </tr>\n",
       "    <tr>\n",
       "      <th>1</th>\n",
       "      <td>UHJvcG9zYWw6NzlmMGY3YjItMWUyMS0xMWU5LTk0ZDItZm...</td>\n",
       "      <td>4-4</td>\n",
       "      <td>suppression des départements</td>\n",
       "      <td>2019-01-22 09:41:14</td>\n",
       "      <td>2019-01-22 09:41:14</td>\n",
       "      <td>NaN</td>\n",
       "      <td>False</td>\n",
       "      <td>NaN</td>\n",
       "      <td>VXNlcjo3ZTVjYTUwMi0xZDZlLTExZTktOTRkMi1mYTE2M2...</td>\n",
       "      <td>Citoyen / Citoyenne</td>\n",
       "      <td>...</td>\n",
       "      <td>NaN</td>\n",
       "      <td>NaN</td>\n",
       "      <td>NaN</td>\n",
       "      <td>NaN</td>\n",
       "      <td>NaN</td>\n",
       "      <td>NaN</td>\n",
       "      <td>NaN</td>\n",
       "      <td>NaN</td>\n",
       "      <td>NaN</td>\n",
       "      <td>NaN</td>\n",
       "    </tr>\n",
       "  </tbody>\n",
       "</table>\n",
       "<p>2 rows × 44 columns</p>\n",
       "</div>"
      ],
      "text/plain": [
       "                                                  id reference  \\\n",
       "0  UHJvcG9zYWw6NjllZDU1NzItMWUyMS0xMWU5LTk0ZDItZm...       4-3   \n",
       "1  UHJvcG9zYWw6NzlmMGY3YjItMWUyMS0xMWU5LTk0ZDItZm...       4-4   \n",
       "\n",
       "                          title            createdAt          publishedAt  \\\n",
       "0                 Les avantages  2019-01-22 09:40:47  2019-01-22 09:40:47   \n",
       "1  suppression des départements  2019-01-22 09:41:14  2019-01-22 09:41:14   \n",
       "\n",
       "  updatedAt  trashed trashedStatus  \\\n",
       "0       NaN    False           NaN   \n",
       "1       NaN    False           NaN   \n",
       "\n",
       "                                            authorId           authorType  \\\n",
       "0  VXNlcjo4Mjc4NzQxYS0xZTFkLTExZTktOTRkMi1mYTE2M2...  Citoyen / Citoyenne   \n",
       "1  VXNlcjo3ZTVjYTUwMi0xZDZlLTExZTktOTRkMi1mYTE2M2...  Citoyen / Citoyenne   \n",
       "\n",
       "                                                                        ...                                                                         \\\n",
       "0                                                                       ...                                                                          \n",
       "1                                                                       ...                                                                          \n",
       "\n",
       "   QUXVlc3Rpb246MTk0 - Si vous avez été amené à préparer votre retraite, pouvez-vous indiquer les éléments de satisfaction et/ou les difficultés rencontrés en précisant, pour chaque point, l'administration concernée :  \\\n",
       "0                                                NaN                                                                                                                                                                        \n",
       "1                                                NaN                                                                                                                                                                        \n",
       "\n",
       "  QUXVlc3Rpb246MTk1 - Si vous avez été amené à demander un remboursement de soins de santé, pouvez-vous indiquer les éléments de satisfaction et/ou les difficultés rencontrés en précisant, pour chaque point, l'administration concernée :  \\\n",
       "0                                                NaN                                                                                                                                                                                           \n",
       "1                                                NaN                                                                                                                                                                                           \n",
       "\n",
       "  QUXVlc3Rpb246MTk2 - Si vous avez été amené à faire une demande d'aide pour une situation de handicap, pouvez-vous indiquer les éléments de satisfaction et/ou les difficultés rencontrés en précisant, pour chaque point, l'administration concernée :  \\\n",
       "0                                                NaN                                                                                                                                                                                                       \n",
       "1                                                NaN                                                                                                                                                                                                       \n",
       "\n",
       "  QUXVlc3Rpb246MTk4 - Si vous avez été amené à créer une entreprise, pouvez-vous indiquer les éléments de satisfaction et/ou les difficultés rencontrés en précisant, pour chaque point, l'administration concernée :  \\\n",
       "0                                                NaN                                                                                                                                                                    \n",
       "1                                                NaN                                                                                                                                                                    \n",
       "\n",
       "  QUXVlc3Rpb246MTk5 - Si vous avez été amené à recruter du personnel, pouvez-vous indiquer les éléments de satisfaction et/ou les difficultés rencontrés en précisant, pour chaque point, l'administration concernée :  \\\n",
       "0                                                NaN                                                                                                                                                                     \n",
       "1                                                NaN                                                                                                                                                                     \n",
       "\n",
       "  QUXVlc3Rpb246MjAw - Si vous avez été amené à former du personnel, pouvez-vous indiquer les éléments de satisfaction et/ou les difficultés rencontrés en précisant, pour chaque point, l'administration concernée :  \\\n",
       "0                                                NaN                                                                                                                                                                   \n",
       "1                                                NaN                                                                                                                                                                   \n",
       "\n",
       "  QUXVlc3Rpb246MjAx - Si vous avez été amené à rémunérer du personnel, pouvez-vous indiquer les éléments de satisfaction et/ou les difficultés rencontrés en précisant, pour chaque point, l'administration concernée :  \\\n",
       "0                                                NaN                                                                                                                                                                      \n",
       "1                                                NaN                                                                                                                                                                      \n",
       "\n",
       "  QUXVlc3Rpb246MjAy - Si vous avez été amené à mettre fin à votre activité, pouvez-vous indiquer les éléments de satisfaction et/ou les difficultés rencontrés en précisant, pour chaque point, l'administration concernée :  \\\n",
       "0                                                NaN                                                                                                                                                                           \n",
       "1                                                NaN                                                                                                                                                                           \n",
       "\n",
       "  QUXVlc3Rpb246MjAz - Si vous avez été amené à recruter une personne portant un handicap, pouvez-vous indiquer les éléments de satisfaction et/ou les difficultés rencontrés en précisant, pour chaque point, l'administration concernée :  \\\n",
       "0                                                NaN                                                                                                                                                                                         \n",
       "1                                                NaN                                                                                                                                                                                         \n",
       "\n",
       "  QUXVlc3Rpb246MTg5 - Y a-t-il d'autres points sur l'organisation de l'Etat et des services publics sur lesquels vous souhaiteriez vous exprimer ?  \n",
       "0  Les anciens Présidents, anciens membres du gou...                                                                                                \n",
       "1                                                NaN                                                                                                \n",
       "\n",
       "[2 rows x 44 columns]"
      ]
     },
     "execution_count": 2,
     "metadata": {},
     "output_type": "execute_result"
    }
   ],
   "source": [
    "df = pd.read_csv('ORGANISATION_DE_LETAT_ET_DES_SERVICES_PUBLICS.csv')\n",
    "df.head(2)"
   ]
  },
  {
   "cell_type": "markdown",
   "metadata": {},
   "source": [
    "We correct the date to remove the HH:MM part"
   ]
  },
  {
   "cell_type": "code",
   "execution_count": 3,
   "metadata": {},
   "outputs": [],
   "source": [
    "def date_curation (date):\n",
    "    try: \n",
    "        return(date[:10])\n",
    "    except TypeError:\n",
    "        return(None)\n",
    "\n",
    "df['createdAt']=df['createdAt'].apply(date_curation)\n",
    "df['publishedAt']=df['createdAt'].apply(date_curation)\n",
    "df['updatedAt']=df['updatedAt'].apply(date_curation)"
   ]
  },
  {
   "cell_type": "markdown",
   "metadata": {},
   "source": [
    "We change the structure of the file to have one row per question answered"
   ]
  },
  {
   "cell_type": "code",
   "execution_count": 4,
   "metadata": {},
   "outputs": [
    {
     "name": "stdout",
     "output_type": "stream",
     "text": [
      "Que pensez-vous de l'organisation de l'Etat et des administrations en France ? De quelle manière cette organisation devrait-elle évoluer ?\n",
      "11\n",
      "Selon vous, l'Etat doit-il aujourd'hui transférer de nouvelles missions aux collectivités territoriales ?\n",
      "12\n",
      "Si oui, lesquelles ?\n",
      "13\n",
      "Estimez-vous avoir accès aux services publics dont vous avez besoin ?\n",
      "14\n",
      "Si non, quels types de services publics vous manquent dans votre territoire et qu'il est nécessaire de renforcer ?\n",
      "15\n",
      "Quels nouveaux services ou quelles démarches souhaitez-vous voir développées sur Internet en priorité ?\n",
      "16\n",
      "Avez-vous déjà utilisé certaines de ces nouvelles formes de services publics ?\n",
      "17\n",
      "Si oui, en avez-vous été satisfait ?\n",
      "18\n",
      "Quelles améliorations préconiseriez-vous ?\n",
      "19\n",
      "Quand vous pensez à l'évolution des services publics au cours des dernières années, quels sont ceux qui ont évolué de manière positive ?\n",
      "20\n",
      "Quels sont les services publics qui doivent le plus évoluer selon vous ?\n",
      "21\n",
      "Connaissez-vous le \"droit à l'erreur\", c'est-à-dire le droit d'affirmer votre bonne foi lorsque vous faites un erreur dans vos déclarations ?\n",
      "22\n",
      "Si oui, avez-vous déjà utilisé ce droit à l'erreur ?\n",
      "23\n",
      "Si oui, à quelle occasion en avez-vous fait usage ?\n",
      "24\n",
      "Pouvez-vous identifier des règles que l'administration vous a déjà demandé d'appliquer et que vous avez jugées inutiles ou trop complexes ?\n",
      "25\n",
      "Faut-il donner plus d'autonomie aux fonctionnaires de terrain ?\n",
      "26\n",
      "Si oui, comment ?\n",
      "27\n",
      "Faut-il revoir le fonctionnement et la formation de l'administration ?\n",
      "28\n",
      "Si oui, comment ?\n",
      "29\n",
      "Comment l'Etat et les collectivités territoriales peuvent-ils s'améliorer pour mieux répondre aux défis de nos territoires les plus en difficulté ?\n",
      "30\n",
      "Si vous avez été amené à chercher une formation, pouvez-vous indiquer les éléments de satisfaction et/ou les difficultés rencontrés en précisant, pour chaque point, l'administration concernée :\n",
      "31\n",
      "Si vous avez été amené à scolariser votre enfant, pouvez-vous indiquer les éléments de satisfaction et/ou les difficultés rencontrés en précisant, pour chaque point, l'administration concernée :\n",
      "32\n",
      "Si vous avez été amené à chercher un emploi, pouvez-vous indiquer les éléments de satisfaction et/ou les difficultés rencontrés en précisant, pour chaque point, l'administration concernée :\n",
      "33\n",
      "Si vous avez été amené à préparer votre retraite, pouvez-vous indiquer les éléments de satisfaction et/ou les difficultés rencontrés en précisant, pour chaque point, l'administration concernée :\n",
      "34\n",
      "Si vous avez été amené à demander un remboursement de soins de santé, pouvez-vous indiquer les éléments de satisfaction et/ou les difficultés rencontrés en précisant, pour chaque point, l'administration concernée :\n",
      "35\n",
      "Si vous avez été amené à faire une demande d'aide pour une situation de handicap, pouvez-vous indiquer les éléments de satisfaction et/ou les difficultés rencontrés en précisant, pour chaque point, l'administration concernée :\n",
      "36\n",
      "Si vous avez été amené à créer une entreprise, pouvez-vous indiquer les éléments de satisfaction et/ou les difficultés rencontrés en précisant, pour chaque point, l'administration concernée :\n",
      "37\n",
      "Si vous avez été amené à recruter du personnel, pouvez-vous indiquer les éléments de satisfaction et/ou les difficultés rencontrés en précisant, pour chaque point, l'administration concernée :\n",
      "38\n",
      "Si vous avez été amené à former du personnel, pouvez-vous indiquer les éléments de satisfaction et/ou les difficultés rencontrés en précisant, pour chaque point, l'administration concernée :\n",
      "39\n",
      "Si vous avez été amené à rémunérer du personnel, pouvez-vous indiquer les éléments de satisfaction et/ou les difficultés rencontrés en précisant, pour chaque point, l'administration concernée :\n",
      "40\n",
      "Si vous avez été amené à mettre fin à votre activité, pouvez-vous indiquer les éléments de satisfaction et/ou les difficultés rencontrés en précisant, pour chaque point, l'administration concernée :\n",
      "41\n",
      "Si vous avez été amené à recruter une personne portant un handicap, pouvez-vous indiquer les éléments de satisfaction et/ou les difficultés rencontrés en précisant, pour chaque point, l'administration concernée :\n",
      "42\n",
      "Y a-t-il d'autres points sur l'organisation de l'Etat et des services publics sur lesquels vous souhaiteriez vous exprimer ?\n",
      "43\n"
     ]
    }
   ],
   "source": [
    "df_elastic = pd.DataFrame()\n",
    "colnumber = 11\n",
    "for question in (df.columns[colnumber:]):\n",
    "    df_temp = df.iloc[:,[0, 1, 2, 3, 4, 5, 6, 7, 8, 9, 10, colnumber]].copy().rename(columns={question : 'answer'})\n",
    "    df_temp[\"question\"]=question[20:]\n",
    "    df_elastic = pd.concat([df_elastic, df_temp])\n",
    "    print (question[20:])\n",
    "    print(colnumber)\n",
    "    colnumber +=1\n",
    "df_elastic = df_elastic.reset_index()"
   ]
  },
  {
   "cell_type": "markdown",
   "metadata": {},
   "source": [
    "## Sentiment analysis component using textblob"
   ]
  },
  {
   "cell_type": "code",
   "execution_count": 5,
   "metadata": {},
   "outputs": [],
   "source": [
    "from textblob import TextBlob\n",
    "from textblob_fr import PatternTagger, PatternAnalyzer"
   ]
  },
  {
   "cell_type": "code",
   "execution_count": 6,
   "metadata": {},
   "outputs": [],
   "source": [
    "def sentiment_analysis(expression):\n",
    "    blob = TextBlob(expression, pos_tagger=PatternTagger(), analyzer=PatternAnalyzer())\n",
    "    return (blob.sentiment[0], blob.sentiment[1])"
   ]
  },
  {
   "cell_type": "code",
   "execution_count": 7,
   "metadata": {},
   "outputs": [],
   "source": [
    "df_elastic['answer'] = df_elastic['answer'].fillna(\"\")\n",
    "df_elastic['positivity'], df_elastic['intensity'] = zip(*df_elastic['answer'].map(sentiment_analysis))"
   ]
  },
  {
   "cell_type": "code",
   "execution_count": 8,
   "metadata": {},
   "outputs": [],
   "source": [
    "df_elastic['sentiment'] = df_elastic['positivity']*df_elastic['intensity']"
   ]
  },
  {
   "cell_type": "code",
   "execution_count": 9,
   "metadata": {},
   "outputs": [
    {
     "data": {
      "text/html": [
       "<div>\n",
       "<style scoped>\n",
       "    .dataframe tbody tr th:only-of-type {\n",
       "        vertical-align: middle;\n",
       "    }\n",
       "\n",
       "    .dataframe tbody tr th {\n",
       "        vertical-align: top;\n",
       "    }\n",
       "\n",
       "    .dataframe thead th {\n",
       "        text-align: right;\n",
       "    }\n",
       "</style>\n",
       "<table border=\"1\" class=\"dataframe\">\n",
       "  <thead>\n",
       "    <tr style=\"text-align: right;\">\n",
       "      <th></th>\n",
       "      <th>index</th>\n",
       "      <th>id</th>\n",
       "      <th>reference</th>\n",
       "      <th>title</th>\n",
       "      <th>createdAt</th>\n",
       "      <th>publishedAt</th>\n",
       "      <th>updatedAt</th>\n",
       "      <th>trashed</th>\n",
       "      <th>trashedStatus</th>\n",
       "      <th>authorId</th>\n",
       "      <th>authorType</th>\n",
       "      <th>authorZipCode</th>\n",
       "      <th>answer</th>\n",
       "      <th>question</th>\n",
       "      <th>positivity</th>\n",
       "      <th>intensity</th>\n",
       "      <th>sentiment</th>\n",
       "    </tr>\n",
       "  </thead>\n",
       "  <tbody>\n",
       "    <tr>\n",
       "      <th>2469715</th>\n",
       "      <td>74835</td>\n",
       "      <td>UHJvcG9zYWw6ZTE1ZTg3YTEtNDE4OS0xMWU5LWJmNTYtZm...</td>\n",
       "      <td>4-85878</td>\n",
       "      <td>SIMPLIFICATION, PROXIMITE et MODERNISATION</td>\n",
       "      <td>2019-03-08</td>\n",
       "      <td>2019-03-08</td>\n",
       "      <td>None</td>\n",
       "      <td>False</td>\n",
       "      <td>NaN</td>\n",
       "      <td>VXNlcjo5ZmRjYzk4OC00MTdkLTExZTktYmY1Ni1mYTE2M2...</td>\n",
       "      <td>Citoyen / Citoyenne</td>\n",
       "      <td>38110.0</td>\n",
       "      <td></td>\n",
       "      <td>Y a-t-il d'autres points sur l'organisation de...</td>\n",
       "      <td>0.000</td>\n",
       "      <td>0.000</td>\n",
       "      <td>0.000000</td>\n",
       "    </tr>\n",
       "    <tr>\n",
       "      <th>2469716</th>\n",
       "      <td>74836</td>\n",
       "      <td>UHJvcG9zYWw6ZTlkYzVmMmYtNDE4OS0xMWU5LWJmNTYtZm...</td>\n",
       "      <td>4-85879</td>\n",
       "      <td>plus d'appel systématique des décisions de jus...</td>\n",
       "      <td>2019-03-08</td>\n",
       "      <td>2019-03-08</td>\n",
       "      <td>None</td>\n",
       "      <td>False</td>\n",
       "      <td>NaN</td>\n",
       "      <td>VXNlcjpjMzdhMjZjZC0yNGI5LTExZTktOTRkMi1mYTE2M2...</td>\n",
       "      <td>Citoyen / Citoyenne</td>\n",
       "      <td>38920.0</td>\n",
       "      <td>il faut réformer la loi pour que l'appel en ju...</td>\n",
       "      <td>Y a-t-il d'autres points sur l'organisation de...</td>\n",
       "      <td>0.163</td>\n",
       "      <td>0.285</td>\n",
       "      <td>0.046455</td>\n",
       "    </tr>\n",
       "    <tr>\n",
       "      <th>2469717</th>\n",
       "      <td>74837</td>\n",
       "      <td>UHJvcG9zYWw6MGIyMjcyZTYtNDE4YS0xMWU5LWJmNTYtZm...</td>\n",
       "      <td>4-85880</td>\n",
       "      <td>Service public</td>\n",
       "      <td>2019-03-08</td>\n",
       "      <td>2019-03-08</td>\n",
       "      <td>None</td>\n",
       "      <td>False</td>\n",
       "      <td>NaN</td>\n",
       "      <td>VXNlcjoxZDA4NWNkZS00MTg2LTExZTktYmY1Ni1mYTE2M2...</td>\n",
       "      <td>Citoyen / Citoyenne</td>\n",
       "      <td>33200.0</td>\n",
       "      <td></td>\n",
       "      <td>Y a-t-il d'autres points sur l'organisation de...</td>\n",
       "      <td>0.000</td>\n",
       "      <td>0.000</td>\n",
       "      <td>0.000000</td>\n",
       "    </tr>\n",
       "    <tr>\n",
       "      <th>2469718</th>\n",
       "      <td>74838</td>\n",
       "      <td>UHJvcG9zYWw6MzE4Nzk3ODQtNDE4YS0xMWU5LWJmNTYtZm...</td>\n",
       "      <td>4-85881</td>\n",
       "      <td>indépendance numérique de l'Etat en question</td>\n",
       "      <td>2019-03-08</td>\n",
       "      <td>2019-03-08</td>\n",
       "      <td>None</td>\n",
       "      <td>False</td>\n",
       "      <td>NaN</td>\n",
       "      <td>VXNlcjo4MDk4YWZhZi0xZjI3LTExZTktOTRkMi1mYTE2M2...</td>\n",
       "      <td>Élu / élue et Institution</td>\n",
       "      <td>81150.0</td>\n",
       "      <td>Sortir de la dépendance et du coût exorbitant ...</td>\n",
       "      <td>Y a-t-il d'autres points sur l'organisation de...</td>\n",
       "      <td>0.155</td>\n",
       "      <td>0.110</td>\n",
       "      <td>0.017050</td>\n",
       "    </tr>\n",
       "    <tr>\n",
       "      <th>2469719</th>\n",
       "      <td>74839</td>\n",
       "      <td>UHJvcG9zYWw6Mzg4MjBiYTctNDE4YS0xMWU5LWJmNTYtZm...</td>\n",
       "      <td>4-85882</td>\n",
       "      <td>Décentraliser ! Décentraliser !</td>\n",
       "      <td>2019-03-08</td>\n",
       "      <td>2019-03-08</td>\n",
       "      <td>None</td>\n",
       "      <td>False</td>\n",
       "      <td>NaN</td>\n",
       "      <td>VXNlcjo2MjUyZjUwZi00MTdmLTExZTktYmY1Ni1mYTE2M2...</td>\n",
       "      <td>Citoyen / Citoyenne</td>\n",
       "      <td>75017.0</td>\n",
       "      <td></td>\n",
       "      <td>Y a-t-il d'autres points sur l'organisation de...</td>\n",
       "      <td>0.000</td>\n",
       "      <td>0.000</td>\n",
       "      <td>0.000000</td>\n",
       "    </tr>\n",
       "  </tbody>\n",
       "</table>\n",
       "</div>"
      ],
      "text/plain": [
       "         index                                                 id reference  \\\n",
       "2469715  74835  UHJvcG9zYWw6ZTE1ZTg3YTEtNDE4OS0xMWU5LWJmNTYtZm...   4-85878   \n",
       "2469716  74836  UHJvcG9zYWw6ZTlkYzVmMmYtNDE4OS0xMWU5LWJmNTYtZm...   4-85879   \n",
       "2469717  74837  UHJvcG9zYWw6MGIyMjcyZTYtNDE4YS0xMWU5LWJmNTYtZm...   4-85880   \n",
       "2469718  74838  UHJvcG9zYWw6MzE4Nzk3ODQtNDE4YS0xMWU5LWJmNTYtZm...   4-85881   \n",
       "2469719  74839  UHJvcG9zYWw6Mzg4MjBiYTctNDE4YS0xMWU5LWJmNTYtZm...   4-85882   \n",
       "\n",
       "                                                     title   createdAt  \\\n",
       "2469715         SIMPLIFICATION, PROXIMITE et MODERNISATION  2019-03-08   \n",
       "2469716  plus d'appel systématique des décisions de jus...  2019-03-08   \n",
       "2469717                                     Service public  2019-03-08   \n",
       "2469718       indépendance numérique de l'Etat en question  2019-03-08   \n",
       "2469719                    Décentraliser ! Décentraliser !  2019-03-08   \n",
       "\n",
       "        publishedAt updatedAt  trashed trashedStatus  \\\n",
       "2469715  2019-03-08      None    False           NaN   \n",
       "2469716  2019-03-08      None    False           NaN   \n",
       "2469717  2019-03-08      None    False           NaN   \n",
       "2469718  2019-03-08      None    False           NaN   \n",
       "2469719  2019-03-08      None    False           NaN   \n",
       "\n",
       "                                                  authorId  \\\n",
       "2469715  VXNlcjo5ZmRjYzk4OC00MTdkLTExZTktYmY1Ni1mYTE2M2...   \n",
       "2469716  VXNlcjpjMzdhMjZjZC0yNGI5LTExZTktOTRkMi1mYTE2M2...   \n",
       "2469717  VXNlcjoxZDA4NWNkZS00MTg2LTExZTktYmY1Ni1mYTE2M2...   \n",
       "2469718  VXNlcjo4MDk4YWZhZi0xZjI3LTExZTktOTRkMi1mYTE2M2...   \n",
       "2469719  VXNlcjo2MjUyZjUwZi00MTdmLTExZTktYmY1Ni1mYTE2M2...   \n",
       "\n",
       "                        authorType  authorZipCode  \\\n",
       "2469715        Citoyen / Citoyenne        38110.0   \n",
       "2469716        Citoyen / Citoyenne        38920.0   \n",
       "2469717        Citoyen / Citoyenne        33200.0   \n",
       "2469718  Élu / élue et Institution        81150.0   \n",
       "2469719        Citoyen / Citoyenne        75017.0   \n",
       "\n",
       "                                                    answer  \\\n",
       "2469715                                                      \n",
       "2469716  il faut réformer la loi pour que l'appel en ju...   \n",
       "2469717                                                      \n",
       "2469718  Sortir de la dépendance et du coût exorbitant ...   \n",
       "2469719                                                      \n",
       "\n",
       "                                                  question  positivity  \\\n",
       "2469715  Y a-t-il d'autres points sur l'organisation de...       0.000   \n",
       "2469716  Y a-t-il d'autres points sur l'organisation de...       0.163   \n",
       "2469717  Y a-t-il d'autres points sur l'organisation de...       0.000   \n",
       "2469718  Y a-t-il d'autres points sur l'organisation de...       0.155   \n",
       "2469719  Y a-t-il d'autres points sur l'organisation de...       0.000   \n",
       "\n",
       "         intensity  sentiment  \n",
       "2469715      0.000   0.000000  \n",
       "2469716      0.285   0.046455  \n",
       "2469717      0.000   0.000000  \n",
       "2469718      0.110   0.017050  \n",
       "2469719      0.000   0.000000  "
      ]
     },
     "execution_count": 9,
     "metadata": {},
     "output_type": "execute_result"
    }
   ],
   "source": [
    "df_elastic.tail()"
   ]
  },
  {
   "cell_type": "code",
   "execution_count": 10,
   "metadata": {},
   "outputs": [],
   "source": [
    "df_elastic.to_csv(\"organisation_enriched.csv\", encoding='utf-8', index=False)"
   ]
  },
  {
   "cell_type": "markdown",
   "metadata": {},
   "source": [
    "## Sentiment analysis component using translation and flair"
   ]
  },
  {
   "cell_type": "markdown",
   "metadata": {},
   "source": [
    "cf democratie pour plus d'info"
   ]
  },
  {
   "cell_type": "markdown",
   "metadata": {},
   "source": [
    "## Geocoding and source adding"
   ]
  },
  {
   "cell_type": "markdown",
   "metadata": {},
   "source": [
    "geocoding is a file that has been downloaded using http://www.nosdonnees.fr/wiki/index.php/Image:EUCircos_Regions_departements_circonscriptions_communes_gps.csv.gz"
   ]
  },
  {
   "cell_type": "code",
   "execution_count": 12,
   "metadata": {},
   "outputs": [],
   "source": [
    "df_elastic_clean = pd.read_csv('organisation_enriched.csv', encoding='utf-8', engine='python')"
   ]
  },
  {
   "cell_type": "code",
   "execution_count": 13,
   "metadata": {},
   "outputs": [
    {
     "data": {
      "text/plain": [
       "Index(['index', 'id', 'reference', 'title', 'createdAt', 'publishedAt',\n",
       "       'updatedAt', 'trashed', 'trashedStatus', 'authorId', 'authorType',\n",
       "       'authorZipCode', 'answer', 'question', 'positivity', 'intensity',\n",
       "       'sentiment'],\n",
       "      dtype='object')"
      ]
     },
     "execution_count": 13,
     "metadata": {},
     "output_type": "execute_result"
    }
   ],
   "source": [
    "df_elastic_clean.columns"
   ]
  },
  {
   "cell_type": "code",
   "execution_count": 14,
   "metadata": {},
   "outputs": [],
   "source": [
    "try:\n",
    "    df_elastic = df_elastic_clean.drop(['departement','city','latitude','longitude'], axis=1)\n",
    "except:\n",
    "    pass\n",
    "def code_correction(code):\n",
    "    if len(code)==4:\n",
    "        return(str(code[:-2]+'000'))\n",
    "    if len(code)==6:\n",
    "        return(str('0'+code[:-2]))\n",
    "    return(str(code[:-2]))\n",
    "\n",
    "df_elastic['authorZipCode']=df_elastic['authorZipCode'].astype(str)\n",
    "df_elastic['authorZipCode']=df_elastic['authorZipCode'].apply(code_correction)"
   ]
  },
  {
   "cell_type": "code",
   "execution_count": 15,
   "metadata": {},
   "outputs": [],
   "source": [
    "geocoding = pd.read_csv('geocoding_corrected.csv', sep=';')\n",
    "\n",
    "geocoding['codes_postaux']=geocoding['codes_postaux'].astype(str)\n",
    "\n",
    "def code_correction(code):\n",
    "    if len(code)==2:\n",
    "        return(code+'000')\n",
    "    if len(code)==4:\n",
    "        return('0'+code)\n",
    "    return(code)\n",
    "\n",
    "geocoding['codes_postaux']=geocoding['codes_postaux'].apply(code_correction)\n",
    "\n",
    "df_elastic['authorZipCode']=df_elastic['authorZipCode'].astype(str)\n",
    "geocoding= (geocoding[[\"nom_departement\",\"nom_commune\",\"codes_postaux\",\"latitude\",\"longitude\"]]\n",
    "            .sort_values(by=[\"codes_postaux\"], axis=0)\n",
    "            .drop_duplicates([\"codes_postaux\"], 'first')\n",
    "            .rename(columns={\"nom_departement\":\"departement\", \"nom_commune\":\"city\"}))\n",
    "geocoding=geocoding.fillna(method='pad')\n",
    "df_elastic = pd.merge(df_elastic, geocoding, how='left', left_on = 'authorZipCode', right_on='codes_postaux')"
   ]
  },
  {
   "cell_type": "code",
   "execution_count": 17,
   "metadata": {},
   "outputs": [
    {
     "data": {
      "text/plain": [
       "0          1716\n",
       "87100      1452\n",
       "37100      1320\n",
       "38920      1254\n",
       "94210      1056\n",
       "76100      1023\n",
       "99000       990\n",
       "72100       891\n",
       "06160       858\n",
       "76620       858\n",
       "83100       792\n",
       "13540       792\n",
       "99999       792\n",
       "57950       759\n",
       "57970       660\n",
       "13290       660\n",
       "59240       660\n",
       "97490       627\n",
       "57155       627\n",
       "80090       594\n",
       "98800       594\n",
       "93210       561\n",
       "68200       528\n",
       "37200       462\n",
       "33970       429\n",
       "50130       429\n",
       "13080       396\n",
       "57280       396\n",
       "97432       396\n",
       "66100       363\n",
       "           ... \n",
       "921000       33\n",
       "9355429      33\n",
       "921120       33\n",
       "664740       33\n",
       "05862        33\n",
       "91500        33\n",
       "1040033      33\n",
       "778125       33\n",
       "15280        33\n",
       "29492        33\n",
       "762230       33\n",
       "8            33\n",
       "751116       33\n",
       "13104        33\n",
       "02333        33\n",
       "34133        33\n",
       "01206        33\n",
       "99422        33\n",
       "50931        33\n",
       "971          33\n",
       "03409        33\n",
       "01083        33\n",
       "302920       33\n",
       "02343        33\n",
       "29485        33\n",
       "98735        33\n",
       "610000       33\n",
       "11456        33\n",
       "2500334      33\n",
       "35100        33\n",
       "Name: authorZipCode, Length: 501, dtype: int64"
      ]
     },
     "execution_count": 17,
     "metadata": {},
     "output_type": "execute_result"
    }
   ],
   "source": [
    "df_elastic[df_elastic['latitude'].isna()][\"authorZipCode\"].value_counts()"
   ]
  },
  {
   "cell_type": "code",
   "execution_count": 18,
   "metadata": {},
   "outputs": [],
   "source": [
    "df_elastic['source']='Grand débat - organisation de l\\'Etat et des services publics'\n",
    "df_elastic.to_csv(\"organisation_enriched.csv\", encoding='utf-8', index=False)"
   ]
  },
  {
   "cell_type": "markdown",
   "metadata": {},
   "source": [
    "## json writing for elasticsearch"
   ]
  },
  {
   "cell_type": "code",
   "execution_count": 10,
   "metadata": {},
   "outputs": [],
   "source": [
    "df_elastic = pd.read_csv('democratie_enriched.csv', encoding='utf-8', engine='python')"
   ]
  },
  {
   "cell_type": "code",
   "execution_count": 19,
   "metadata": {},
   "outputs": [
    {
     "data": {
      "text/plain": [
       "1"
      ]
     },
     "execution_count": 19,
     "metadata": {},
     "output_type": "execute_result"
    }
   ],
   "source": [
    "f = open(\"organisation_base_pre_es.json\", \"w\")\n",
    "\n",
    "for row in df_elastic.iterrows():\n",
    "    row[1].to_json(f, orient='index', force_ascii=True)\n",
    "    f.write(\"\\n\")\n",
    "f.write(\"\\n\")"
   ]
  },
  {
   "cell_type": "markdown",
   "metadata": {},
   "source": [
    "## Ingestion in elasticsearch"
   ]
  },
  {
   "cell_type": "code",
   "execution_count": 20,
   "metadata": {},
   "outputs": [
    {
     "name": "stderr",
     "output_type": "stream",
     "text": [
      "C:\\ProgramData\\Anaconda3\\lib\\site-packages\\pandas\\core\\ops.py:1167: FutureWarning: elementwise comparison failed; returning scalar instead, but in the future will perform elementwise comparison\n",
      "  result = method(y)\n"
     ]
    }
   ],
   "source": [
    "try:\n",
    "    df_elastic['trashed'] = np.where((df_elastic['trashed'] =='True') & (df_elastic['trashed'] =='False'),True,False)\n",
    "except:\n",
    "    pass"
   ]
  },
  {
   "cell_type": "code",
   "execution_count": 21,
   "metadata": {},
   "outputs": [],
   "source": [
    "with open('./organisation_base_pre_es.json', 'r') as r, open('./organisation_base_es.json', 'w') as w:    \n",
    "    for num, line in enumerate(r):\n",
    "        if line[0]!='[' and line[0]!=']':\n",
    "            newline = '{\"index\":{\"_id\":'+ '\"o_' + str(num)+'\"}}'+'\\n'\n",
    "            if line[0]=='\\n':\n",
    "                newline='\\n'\n",
    "            elif line[-2]== ',':\n",
    "                newline += line[:-2] + \"\\n\" if \"\\n\" in line else line[:-1]\n",
    "            else:\n",
    "                newline += line[:-1] + \"\\n\" if \"\\n\" in line else line[:-1]\n",
    "        else:\n",
    "            newline = ''               \n",
    "        w.write(newline)"
   ]
  }
 ],
 "metadata": {
  "kernelspec": {
   "display_name": "Python 3",
   "language": "python",
   "name": "python3"
  },
  "language_info": {
   "codemirror_mode": {
    "name": "ipython",
    "version": 3
   },
   "file_extension": ".py",
   "mimetype": "text/x-python",
   "name": "python",
   "nbconvert_exporter": "python",
   "pygments_lexer": "ipython3",
   "version": "3.6.5"
  }
 },
 "nbformat": 4,
 "nbformat_minor": 2
}
