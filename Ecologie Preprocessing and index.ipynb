{
 "cells": [
  {
   "cell_type": "code",
   "execution_count": 34,
   "metadata": {},
   "outputs": [],
   "source": [
    "import pandas as pd\n",
    "import numpy as np"
   ]
  },
  {
   "cell_type": "markdown",
   "metadata": {},
   "source": [
    "## CSV Importation and transformation"
   ]
  },
  {
   "cell_type": "markdown",
   "metadata": {},
   "source": [
    "We import the csv file"
   ]
  },
  {
   "cell_type": "code",
   "execution_count": 35,
   "metadata": {},
   "outputs": [
    {
     "name": "stderr",
     "output_type": "stream",
     "text": [
      "C:\\ProgramData\\Anaconda3\\lib\\site-packages\\IPython\\core\\interactiveshell.py:2785: DtypeWarning: Columns (7) have mixed types. Specify dtype option on import or set low_memory=False.\n",
      "  interactivity=interactivity, compiler=compiler, result=result)\n"
     ]
    },
    {
     "data": {
      "text/html": [
       "<div>\n",
       "<style scoped>\n",
       "    .dataframe tbody tr th:only-of-type {\n",
       "        vertical-align: middle;\n",
       "    }\n",
       "\n",
       "    .dataframe tbody tr th {\n",
       "        vertical-align: top;\n",
       "    }\n",
       "\n",
       "    .dataframe thead th {\n",
       "        text-align: right;\n",
       "    }\n",
       "</style>\n",
       "<table border=\"1\" class=\"dataframe\">\n",
       "  <thead>\n",
       "    <tr style=\"text-align: right;\">\n",
       "      <th></th>\n",
       "      <th>id</th>\n",
       "      <th>reference</th>\n",
       "      <th>title</th>\n",
       "      <th>createdAt</th>\n",
       "      <th>publishedAt</th>\n",
       "      <th>updatedAt</th>\n",
       "      <th>trashed</th>\n",
       "      <th>trashedStatus</th>\n",
       "      <th>authorId</th>\n",
       "      <th>authorType</th>\n",
       "      <th>...</th>\n",
       "      <th>QUXVlc3Rpb246MTUw - Qu'est-ce qui pourrait vous inciter à changer vos comportements comme par exemple mieux entretenir et régler votre chauffage, modifier votre manière de conduire ou renoncer à prendre votre véhicule pour de très petites distances ?</th>\n",
       "      <th>QUXVlc3Rpb246MTUx - Quelles seraient pour vous les solutions les plus simples et les plus supportables sur un plan financier pour vous inciter à changer vos comportements ?</th>\n",
       "      <th>QUXVlc3Rpb246MTUy - Par rapport à votre mode de chauffage actuel, pensez-vous qu'il existe des solutions alternatives plus écologiques ?</th>\n",
       "      <th>QUXVlc3Rpb246MTUz - Si oui, que faudrait-il faire pour vous convaincre ou vous aider à changer de mode de chauffage ?</th>\n",
       "      <th>QUXVlc3Rpb246MTU0 - Avez-vous pour vos déplacements quotidiens la possibilité de recourir à des solutions de mobilité alternatives à la voiture individuelle comme les transports en commun, le covoiturage, l'auto-partage, le transport à la demande, le vélo, etc. ?</th>\n",
       "      <th>QUXVlc3Rpb246MTU1 - Si oui, que faudrait-il faire pour vous convaincre ou vous aider à utiliser ces solutions alternatives ?</th>\n",
       "      <th>QUXVlc3Rpb246MjA3 - Si non, quelles sont les solutions de mobilité alternatives que vous souhaiteriez pouvoir utiliser ?</th>\n",
       "      <th>QUXVlc3Rpb246MTU3 - Et qui doit selon vous se charger de vous proposer ce type de solutions alternatives ?</th>\n",
       "      <th>QUXVlc3Rpb246MTU4 - Que pourrait faire la France pour faire partager ses choix en matière d'environnement au niveau européen et international ?</th>\n",
       "      <th>QUXVlc3Rpb246MTU5 - Y a-t-il d'autres points sur la transition écologique sur lesquels vous souhaiteriez vous exprimer ?</th>\n",
       "    </tr>\n",
       "  </thead>\n",
       "  <tbody>\n",
       "    <tr>\n",
       "      <th>0</th>\n",
       "      <td>UHJvcG9zYWw6ZmZlN2MwNzktMWUyMC0xMWU5LTk0ZDItZm...</td>\n",
       "      <td>2-4</td>\n",
       "      <td>transition écologique</td>\n",
       "      <td>2019-01-22 09:37:49</td>\n",
       "      <td>2019-01-22 09:37:49</td>\n",
       "      <td>NaN</td>\n",
       "      <td>False</td>\n",
       "      <td>NaN</td>\n",
       "      <td>VXNlcjoxMTQwMTc0YS0xZTFmLTExZTktOTRkMi1mYTE2M2...</td>\n",
       "      <td>Citoyen / Citoyenne</td>\n",
       "      <td>...</td>\n",
       "      <td>NaN</td>\n",
       "      <td>NaN</td>\n",
       "      <td>NaN</td>\n",
       "      <td>NaN</td>\n",
       "      <td>NaN</td>\n",
       "      <td>NaN</td>\n",
       "      <td>NaN</td>\n",
       "      <td>NaN</td>\n",
       "      <td>Enseignement du tri sélectif à l'école</td>\n",
       "      <td>Multiplier les centrales géothermiques</td>\n",
       "    </tr>\n",
       "    <tr>\n",
       "      <th>1</th>\n",
       "      <td>UHJvcG9zYWw6M2RmZmUxZjMtMWUyMS0xMWU5LTk0ZDItZm...</td>\n",
       "      <td>2-5</td>\n",
       "      <td>La surpopulation</td>\n",
       "      <td>2019-01-22 09:39:33</td>\n",
       "      <td>2019-01-22 09:39:33</td>\n",
       "      <td>NaN</td>\n",
       "      <td>False</td>\n",
       "      <td>NaN</td>\n",
       "      <td>VXNlcjpjOWYxZWQ1NS0xYzEwLTExZTktOTRkMi1mYTE2M2...</td>\n",
       "      <td>Citoyen / Citoyenne</td>\n",
       "      <td>...</td>\n",
       "      <td>NaN</td>\n",
       "      <td>NaN</td>\n",
       "      <td>NaN</td>\n",
       "      <td>NaN</td>\n",
       "      <td>NaN</td>\n",
       "      <td>NaN</td>\n",
       "      <td>NaN</td>\n",
       "      <td>NaN</td>\n",
       "      <td>Mettre en oeuvre au niveau national ses engage...</td>\n",
       "      <td>Les problèmes auxquels se trouve confronté l’e...</td>\n",
       "    </tr>\n",
       "  </tbody>\n",
       "</table>\n",
       "<p>2 rows × 27 columns</p>\n",
       "</div>"
      ],
      "text/plain": [
       "                                                  id reference  \\\n",
       "0  UHJvcG9zYWw6ZmZlN2MwNzktMWUyMC0xMWU5LTk0ZDItZm...       2-4   \n",
       "1  UHJvcG9zYWw6M2RmZmUxZjMtMWUyMS0xMWU5LTk0ZDItZm...       2-5   \n",
       "\n",
       "                   title            createdAt          publishedAt updatedAt  \\\n",
       "0  transition écologique  2019-01-22 09:37:49  2019-01-22 09:37:49       NaN   \n",
       "1       La surpopulation  2019-01-22 09:39:33  2019-01-22 09:39:33       NaN   \n",
       "\n",
       "   trashed trashedStatus                                           authorId  \\\n",
       "0    False           NaN  VXNlcjoxMTQwMTc0YS0xZTFmLTExZTktOTRkMi1mYTE2M2...   \n",
       "1    False           NaN  VXNlcjpjOWYxZWQ1NS0xYzEwLTExZTktOTRkMi1mYTE2M2...   \n",
       "\n",
       "            authorType  \\\n",
       "0  Citoyen / Citoyenne   \n",
       "1  Citoyen / Citoyenne   \n",
       "\n",
       "                                                            ...                                                             \\\n",
       "0                                                           ...                                                              \n",
       "1                                                           ...                                                              \n",
       "\n",
       "   QUXVlc3Rpb246MTUw - Qu'est-ce qui pourrait vous inciter à changer vos comportements comme par exemple mieux entretenir et régler votre chauffage, modifier votre manière de conduire ou renoncer à prendre votre véhicule pour de très petites distances ?  \\\n",
       "0                                                NaN                                                                                                                                                                                                            \n",
       "1                                                NaN                                                                                                                                                                                                            \n",
       "\n",
       "  QUXVlc3Rpb246MTUx - Quelles seraient pour vous les solutions les plus simples et les plus supportables sur un plan financier pour vous inciter à changer vos comportements ?  \\\n",
       "0                                                NaN                                                                                                                             \n",
       "1                                                NaN                                                                                                                             \n",
       "\n",
       "  QUXVlc3Rpb246MTUy - Par rapport à votre mode de chauffage actuel, pensez-vous qu'il existe des solutions alternatives plus écologiques ?  \\\n",
       "0                                                NaN                                                                                         \n",
       "1                                                NaN                                                                                         \n",
       "\n",
       "  QUXVlc3Rpb246MTUz - Si oui, que faudrait-il faire pour vous convaincre ou vous aider à changer de mode de chauffage ?  \\\n",
       "0                                                NaN                                                                      \n",
       "1                                                NaN                                                                      \n",
       "\n",
       "  QUXVlc3Rpb246MTU0 - Avez-vous pour vos déplacements quotidiens la possibilité de recourir à des solutions de mobilité alternatives à la voiture individuelle comme les transports en commun, le covoiturage, l'auto-partage, le transport à la demande, le vélo, etc. ?  \\\n",
       "0                                                NaN                                                                                                                                                                                                                        \n",
       "1                                                NaN                                                                                                                                                                                                                        \n",
       "\n",
       "  QUXVlc3Rpb246MTU1 - Si oui, que faudrait-il faire pour vous convaincre ou vous aider à utiliser ces solutions alternatives ?  \\\n",
       "0                                                NaN                                                                             \n",
       "1                                                NaN                                                                             \n",
       "\n",
       "  QUXVlc3Rpb246MjA3 - Si non, quelles sont les solutions de mobilité alternatives que vous souhaiteriez pouvoir utiliser ?  \\\n",
       "0                                                NaN                                                                         \n",
       "1                                                NaN                                                                         \n",
       "\n",
       "  QUXVlc3Rpb246MTU3 - Et qui doit selon vous se charger de vous proposer ce type de solutions alternatives ?  \\\n",
       "0                                                NaN                                                           \n",
       "1                                                NaN                                                           \n",
       "\n",
       "  QUXVlc3Rpb246MTU4 - Que pourrait faire la France pour faire partager ses choix en matière d'environnement au niveau européen et international ?  \\\n",
       "0             Enseignement du tri sélectif à l'école                                                                                                \n",
       "1  Mettre en oeuvre au niveau national ses engage...                                                                                                \n",
       "\n",
       "  QUXVlc3Rpb246MTU5 - Y a-t-il d'autres points sur la transition écologique sur lesquels vous souhaiteriez vous exprimer ?  \n",
       "0             Multiplier les centrales géothermiques                                                                        \n",
       "1  Les problèmes auxquels se trouve confronté l’e...                                                                        \n",
       "\n",
       "[2 rows x 27 columns]"
      ]
     },
     "execution_count": 35,
     "metadata": {},
     "output_type": "execute_result"
    }
   ],
   "source": [
    "df = pd.read_csv('LA_TRANSITION_ECOLOGIQUE.csv')\n",
    "df.head(2)"
   ]
  },
  {
   "cell_type": "markdown",
   "metadata": {},
   "source": [
    "We correct the date to remove the HH:MM part"
   ]
  },
  {
   "cell_type": "code",
   "execution_count": 36,
   "metadata": {},
   "outputs": [],
   "source": [
    "def date_curation (date):\n",
    "    try: \n",
    "        return(date[:10])\n",
    "    except TypeError:\n",
    "        return(None)\n",
    "\n",
    "df['createdAt']=df['createdAt'].apply(date_curation)\n",
    "df['publishedAt']=df['createdAt'].apply(date_curation)\n",
    "df['updatedAt']=df['updatedAt'].apply(date_curation)"
   ]
  },
  {
   "cell_type": "markdown",
   "metadata": {},
   "source": [
    "We change the structure of the file to have one row per question answered"
   ]
  },
  {
   "cell_type": "code",
   "execution_count": 37,
   "metadata": {},
   "outputs": [
    {
     "name": "stdout",
     "output_type": "stream",
     "text": [
      "11\n",
      "12\n",
      "13\n",
      "14\n",
      "15\n",
      "16\n",
      "17\n",
      "18\n",
      "19\n",
      "20\n",
      "21\n",
      "22\n",
      "23\n",
      "24\n",
      "25\n",
      "26\n"
     ]
    }
   ],
   "source": [
    "df_elastic = pd.DataFrame()\n",
    "colnumber = 11\n",
    "for question in (df.columns[colnumber:]):\n",
    "    df_temp = df.iloc[:,[0, 1, 2, 3, 4, 5, 6, 7, 8, 9, 10, colnumber]].copy().rename(columns={question : 'answer'})\n",
    "    df_temp[\"question\"]=question[20:]\n",
    "    df_elastic = pd.concat([df_elastic, df_temp])\n",
    "    print(colnumber)\n",
    "    colnumber +=1\n",
    "df_elastic = df_elastic.reset_index()"
   ]
  },
  {
   "cell_type": "code",
   "execution_count": 38,
   "metadata": {},
   "outputs": [
    {
     "data": {
      "text/html": [
       "<div>\n",
       "<style scoped>\n",
       "    .dataframe tbody tr th:only-of-type {\n",
       "        vertical-align: middle;\n",
       "    }\n",
       "\n",
       "    .dataframe tbody tr th {\n",
       "        vertical-align: top;\n",
       "    }\n",
       "\n",
       "    .dataframe thead th {\n",
       "        text-align: right;\n",
       "    }\n",
       "</style>\n",
       "<table border=\"1\" class=\"dataframe\">\n",
       "  <thead>\n",
       "    <tr style=\"text-align: right;\">\n",
       "      <th></th>\n",
       "      <th>index</th>\n",
       "      <th>id</th>\n",
       "      <th>reference</th>\n",
       "      <th>title</th>\n",
       "      <th>createdAt</th>\n",
       "      <th>publishedAt</th>\n",
       "      <th>updatedAt</th>\n",
       "      <th>trashed</th>\n",
       "      <th>trashedStatus</th>\n",
       "      <th>authorId</th>\n",
       "      <th>authorType</th>\n",
       "      <th>authorZipCode</th>\n",
       "      <th>answer</th>\n",
       "      <th>question</th>\n",
       "    </tr>\n",
       "  </thead>\n",
       "  <tbody>\n",
       "    <tr>\n",
       "      <th>0</th>\n",
       "      <td>0</td>\n",
       "      <td>UHJvcG9zYWw6ZmZlN2MwNzktMWUyMC0xMWU5LTk0ZDItZm...</td>\n",
       "      <td>2-4</td>\n",
       "      <td>transition écologique</td>\n",
       "      <td>2019-01-22</td>\n",
       "      <td>2019-01-22</td>\n",
       "      <td>None</td>\n",
       "      <td>False</td>\n",
       "      <td>NaN</td>\n",
       "      <td>VXNlcjoxMTQwMTc0YS0xZTFmLTExZTktOTRkMi1mYTE2M2...</td>\n",
       "      <td>Citoyen / Citoyenne</td>\n",
       "      <td>97231</td>\n",
       "      <td>NaN</td>\n",
       "      <td>Quel est aujourd'hui pour vous le problème con...</td>\n",
       "    </tr>\n",
       "    <tr>\n",
       "      <th>1</th>\n",
       "      <td>1</td>\n",
       "      <td>UHJvcG9zYWw6M2RmZmUxZjMtMWUyMS0xMWU5LTk0ZDItZm...</td>\n",
       "      <td>2-5</td>\n",
       "      <td>La surpopulation</td>\n",
       "      <td>2019-01-22</td>\n",
       "      <td>2019-01-22</td>\n",
       "      <td>None</td>\n",
       "      <td>False</td>\n",
       "      <td>NaN</td>\n",
       "      <td>VXNlcjpjOWYxZWQ1NS0xYzEwLTExZTktOTRkMi1mYTE2M2...</td>\n",
       "      <td>Citoyen / Citoyenne</td>\n",
       "      <td>57000</td>\n",
       "      <td>Les problèmes auxquels se trouve confronté l’e...</td>\n",
       "      <td>Quel est aujourd'hui pour vous le problème con...</td>\n",
       "    </tr>\n",
       "    <tr>\n",
       "      <th>2</th>\n",
       "      <td>2</td>\n",
       "      <td>UHJvcG9zYWw6NDg1YWUxYjItMWUyMS0xMWU5LTk0ZDItZm...</td>\n",
       "      <td>2-6</td>\n",
       "      <td>climat</td>\n",
       "      <td>2019-01-22</td>\n",
       "      <td>2019-01-22</td>\n",
       "      <td>None</td>\n",
       "      <td>False</td>\n",
       "      <td>NaN</td>\n",
       "      <td>VXNlcjozZjlhNzAwOS0xYTc2LTExZTktOTRkMi1mYTE2M2...</td>\n",
       "      <td>Citoyen / Citoyenne</td>\n",
       "      <td>34140</td>\n",
       "      <td>Les dérèglements climatiques (crue, sécheresse)</td>\n",
       "      <td>Quel est aujourd'hui pour vous le problème con...</td>\n",
       "    </tr>\n",
       "    <tr>\n",
       "      <th>3</th>\n",
       "      <td>3</td>\n",
       "      <td>UHJvcG9zYWw6NTk2Nzk5MmItMWUyMS0xMWU5LTk0ZDItZm...</td>\n",
       "      <td>2-7</td>\n",
       "      <td>POLLUTION AIR EAU</td>\n",
       "      <td>2019-01-22</td>\n",
       "      <td>2019-01-22</td>\n",
       "      <td>None</td>\n",
       "      <td>False</td>\n",
       "      <td>NaN</td>\n",
       "      <td>VXNlcjozOWQwNzJjNC0xZDEwLTExZTktOTRkMi1mYTE2M2...</td>\n",
       "      <td>Citoyen / Citoyenne</td>\n",
       "      <td>17400</td>\n",
       "      <td>La pollution de l'air</td>\n",
       "      <td>Quel est aujourd'hui pour vous le problème con...</td>\n",
       "    </tr>\n",
       "    <tr>\n",
       "      <th>4</th>\n",
       "      <td>4</td>\n",
       "      <td>UHJvcG9zYWw6ODU5NWMyOTYtMWUyMS0xMWU5LTk0ZDItZm...</td>\n",
       "      <td>2-8</td>\n",
       "      <td>Economie vs Ecologie</td>\n",
       "      <td>2019-01-22</td>\n",
       "      <td>2019-01-22</td>\n",
       "      <td>None</td>\n",
       "      <td>False</td>\n",
       "      <td>NaN</td>\n",
       "      <td>VXNlcjo3M2YxN2NlZS0xZDRiLTExZTktOTRkMi1mYTE2M2...</td>\n",
       "      <td>Citoyen / Citoyenne</td>\n",
       "      <td>35430</td>\n",
       "      <td>La biodiversité et la disparition de certaines...</td>\n",
       "      <td>Quel est aujourd'hui pour vous le problème con...</td>\n",
       "    </tr>\n",
       "  </tbody>\n",
       "</table>\n",
       "</div>"
      ],
      "text/plain": [
       "   index                                                 id reference  \\\n",
       "0      0  UHJvcG9zYWw6ZmZlN2MwNzktMWUyMC0xMWU5LTk0ZDItZm...       2-4   \n",
       "1      1  UHJvcG9zYWw6M2RmZmUxZjMtMWUyMS0xMWU5LTk0ZDItZm...       2-5   \n",
       "2      2  UHJvcG9zYWw6NDg1YWUxYjItMWUyMS0xMWU5LTk0ZDItZm...       2-6   \n",
       "3      3  UHJvcG9zYWw6NTk2Nzk5MmItMWUyMS0xMWU5LTk0ZDItZm...       2-7   \n",
       "4      4  UHJvcG9zYWw6ODU5NWMyOTYtMWUyMS0xMWU5LTk0ZDItZm...       2-8   \n",
       "\n",
       "                   title   createdAt publishedAt updatedAt  trashed  \\\n",
       "0  transition écologique  2019-01-22  2019-01-22      None    False   \n",
       "1       La surpopulation  2019-01-22  2019-01-22      None    False   \n",
       "2                 climat  2019-01-22  2019-01-22      None    False   \n",
       "3      POLLUTION AIR EAU  2019-01-22  2019-01-22      None    False   \n",
       "4   Economie vs Ecologie  2019-01-22  2019-01-22      None    False   \n",
       "\n",
       "  trashedStatus                                           authorId  \\\n",
       "0           NaN  VXNlcjoxMTQwMTc0YS0xZTFmLTExZTktOTRkMi1mYTE2M2...   \n",
       "1           NaN  VXNlcjpjOWYxZWQ1NS0xYzEwLTExZTktOTRkMi1mYTE2M2...   \n",
       "2           NaN  VXNlcjozZjlhNzAwOS0xYTc2LTExZTktOTRkMi1mYTE2M2...   \n",
       "3           NaN  VXNlcjozOWQwNzJjNC0xZDEwLTExZTktOTRkMi1mYTE2M2...   \n",
       "4           NaN  VXNlcjo3M2YxN2NlZS0xZDRiLTExZTktOTRkMi1mYTE2M2...   \n",
       "\n",
       "            authorType  authorZipCode  \\\n",
       "0  Citoyen / Citoyenne          97231   \n",
       "1  Citoyen / Citoyenne          57000   \n",
       "2  Citoyen / Citoyenne          34140   \n",
       "3  Citoyen / Citoyenne          17400   \n",
       "4  Citoyen / Citoyenne          35430   \n",
       "\n",
       "                                              answer  \\\n",
       "0                                                NaN   \n",
       "1  Les problèmes auxquels se trouve confronté l’e...   \n",
       "2    Les dérèglements climatiques (crue, sécheresse)   \n",
       "3                              La pollution de l'air   \n",
       "4  La biodiversité et la disparition de certaines...   \n",
       "\n",
       "                                            question  \n",
       "0  Quel est aujourd'hui pour vous le problème con...  \n",
       "1  Quel est aujourd'hui pour vous le problème con...  \n",
       "2  Quel est aujourd'hui pour vous le problème con...  \n",
       "3  Quel est aujourd'hui pour vous le problème con...  \n",
       "4  Quel est aujourd'hui pour vous le problème con...  "
      ]
     },
     "execution_count": 38,
     "metadata": {},
     "output_type": "execute_result"
    }
   ],
   "source": [
    "df_elastic.head()"
   ]
  },
  {
   "cell_type": "markdown",
   "metadata": {},
   "source": [
    "## Sentiment analysis component using textblob"
   ]
  },
  {
   "cell_type": "code",
   "execution_count": 39,
   "metadata": {},
   "outputs": [],
   "source": [
    "from textblob import TextBlob\n",
    "from textblob_fr import PatternTagger, PatternAnalyzer"
   ]
  },
  {
   "cell_type": "code",
   "execution_count": 40,
   "metadata": {},
   "outputs": [],
   "source": [
    "def sentiment_analysis(expression):\n",
    "    blob = TextBlob(expression, pos_tagger=PatternTagger(), analyzer=PatternAnalyzer())\n",
    "    return (blob.sentiment[0], blob.sentiment[1])"
   ]
  },
  {
   "cell_type": "code",
   "execution_count": 41,
   "metadata": {},
   "outputs": [],
   "source": [
    "df_elastic['answer'] = df_elastic['answer'].fillna(\"\")\n",
    "df_elastic['positivity'], df_elastic['intensity'] = zip(*df_elastic['answer'].map(sentiment_analysis))"
   ]
  },
  {
   "cell_type": "code",
   "execution_count": 42,
   "metadata": {},
   "outputs": [],
   "source": [
    "df_elastic['sentiment'] = df_elastic['positivity']*df_elastic['intensity']"
   ]
  },
  {
   "cell_type": "code",
   "execution_count": 43,
   "metadata": {},
   "outputs": [
    {
     "data": {
      "text/html": [
       "<div>\n",
       "<style scoped>\n",
       "    .dataframe tbody tr th:only-of-type {\n",
       "        vertical-align: middle;\n",
       "    }\n",
       "\n",
       "    .dataframe tbody tr th {\n",
       "        vertical-align: top;\n",
       "    }\n",
       "\n",
       "    .dataframe thead th {\n",
       "        text-align: right;\n",
       "    }\n",
       "</style>\n",
       "<table border=\"1\" class=\"dataframe\">\n",
       "  <thead>\n",
       "    <tr style=\"text-align: right;\">\n",
       "      <th></th>\n",
       "      <th>index</th>\n",
       "      <th>id</th>\n",
       "      <th>reference</th>\n",
       "      <th>title</th>\n",
       "      <th>createdAt</th>\n",
       "      <th>publishedAt</th>\n",
       "      <th>updatedAt</th>\n",
       "      <th>trashed</th>\n",
       "      <th>trashedStatus</th>\n",
       "      <th>authorId</th>\n",
       "      <th>authorType</th>\n",
       "      <th>authorZipCode</th>\n",
       "      <th>answer</th>\n",
       "      <th>question</th>\n",
       "      <th>positivity</th>\n",
       "      <th>intensity</th>\n",
       "      <th>sentiment</th>\n",
       "    </tr>\n",
       "  </thead>\n",
       "  <tbody>\n",
       "    <tr>\n",
       "      <th>0</th>\n",
       "      <td>0</td>\n",
       "      <td>UHJvcG9zYWw6ZmZlN2MwNzktMWUyMC0xMWU5LTk0ZDItZm...</td>\n",
       "      <td>2-4</td>\n",
       "      <td>transition écologique</td>\n",
       "      <td>2019-01-22</td>\n",
       "      <td>2019-01-22</td>\n",
       "      <td>None</td>\n",
       "      <td>False</td>\n",
       "      <td>NaN</td>\n",
       "      <td>VXNlcjoxMTQwMTc0YS0xZTFmLTExZTktOTRkMi1mYTE2M2...</td>\n",
       "      <td>Citoyen / Citoyenne</td>\n",
       "      <td>97231</td>\n",
       "      <td></td>\n",
       "      <td>Quel est aujourd'hui pour vous le problème con...</td>\n",
       "      <td>0.000</td>\n",
       "      <td>0.00</td>\n",
       "      <td>0.00000</td>\n",
       "    </tr>\n",
       "    <tr>\n",
       "      <th>1</th>\n",
       "      <td>1</td>\n",
       "      <td>UHJvcG9zYWw6M2RmZmUxZjMtMWUyMS0xMWU5LTk0ZDItZm...</td>\n",
       "      <td>2-5</td>\n",
       "      <td>La surpopulation</td>\n",
       "      <td>2019-01-22</td>\n",
       "      <td>2019-01-22</td>\n",
       "      <td>None</td>\n",
       "      <td>False</td>\n",
       "      <td>NaN</td>\n",
       "      <td>VXNlcjpjOWYxZWQ1NS0xYzEwLTExZTktOTRkMi1mYTE2M2...</td>\n",
       "      <td>Citoyen / Citoyenne</td>\n",
       "      <td>57000</td>\n",
       "      <td>Les problèmes auxquels se trouve confronté l’e...</td>\n",
       "      <td>Quel est aujourd'hui pour vous le problème con...</td>\n",
       "      <td>0.043</td>\n",
       "      <td>0.19</td>\n",
       "      <td>0.00817</td>\n",
       "    </tr>\n",
       "    <tr>\n",
       "      <th>2</th>\n",
       "      <td>2</td>\n",
       "      <td>UHJvcG9zYWw6NDg1YWUxYjItMWUyMS0xMWU5LTk0ZDItZm...</td>\n",
       "      <td>2-6</td>\n",
       "      <td>climat</td>\n",
       "      <td>2019-01-22</td>\n",
       "      <td>2019-01-22</td>\n",
       "      <td>None</td>\n",
       "      <td>False</td>\n",
       "      <td>NaN</td>\n",
       "      <td>VXNlcjozZjlhNzAwOS0xYTc2LTExZTktOTRkMi1mYTE2M2...</td>\n",
       "      <td>Citoyen / Citoyenne</td>\n",
       "      <td>34140</td>\n",
       "      <td>Les dérèglements climatiques (crue, sécheresse)</td>\n",
       "      <td>Quel est aujourd'hui pour vous le problème con...</td>\n",
       "      <td>-0.300</td>\n",
       "      <td>0.65</td>\n",
       "      <td>-0.19500</td>\n",
       "    </tr>\n",
       "    <tr>\n",
       "      <th>3</th>\n",
       "      <td>3</td>\n",
       "      <td>UHJvcG9zYWw6NTk2Nzk5MmItMWUyMS0xMWU5LTk0ZDItZm...</td>\n",
       "      <td>2-7</td>\n",
       "      <td>POLLUTION AIR EAU</td>\n",
       "      <td>2019-01-22</td>\n",
       "      <td>2019-01-22</td>\n",
       "      <td>None</td>\n",
       "      <td>False</td>\n",
       "      <td>NaN</td>\n",
       "      <td>VXNlcjozOWQwNzJjNC0xZDEwLTExZTktOTRkMi1mYTE2M2...</td>\n",
       "      <td>Citoyen / Citoyenne</td>\n",
       "      <td>17400</td>\n",
       "      <td>La pollution de l'air</td>\n",
       "      <td>Quel est aujourd'hui pour vous le problème con...</td>\n",
       "      <td>0.000</td>\n",
       "      <td>0.00</td>\n",
       "      <td>0.00000</td>\n",
       "    </tr>\n",
       "    <tr>\n",
       "      <th>4</th>\n",
       "      <td>4</td>\n",
       "      <td>UHJvcG9zYWw6ODU5NWMyOTYtMWUyMS0xMWU5LTk0ZDItZm...</td>\n",
       "      <td>2-8</td>\n",
       "      <td>Economie vs Ecologie</td>\n",
       "      <td>2019-01-22</td>\n",
       "      <td>2019-01-22</td>\n",
       "      <td>None</td>\n",
       "      <td>False</td>\n",
       "      <td>NaN</td>\n",
       "      <td>VXNlcjo3M2YxN2NlZS0xZDRiLTExZTktOTRkMi1mYTE2M2...</td>\n",
       "      <td>Citoyen / Citoyenne</td>\n",
       "      <td>35430</td>\n",
       "      <td>La biodiversité et la disparition de certaines...</td>\n",
       "      <td>Quel est aujourd'hui pour vous le problème con...</td>\n",
       "      <td>0.290</td>\n",
       "      <td>0.15</td>\n",
       "      <td>0.04350</td>\n",
       "    </tr>\n",
       "  </tbody>\n",
       "</table>\n",
       "</div>"
      ],
      "text/plain": [
       "   index                                                 id reference  \\\n",
       "0      0  UHJvcG9zYWw6ZmZlN2MwNzktMWUyMC0xMWU5LTk0ZDItZm...       2-4   \n",
       "1      1  UHJvcG9zYWw6M2RmZmUxZjMtMWUyMS0xMWU5LTk0ZDItZm...       2-5   \n",
       "2      2  UHJvcG9zYWw6NDg1YWUxYjItMWUyMS0xMWU5LTk0ZDItZm...       2-6   \n",
       "3      3  UHJvcG9zYWw6NTk2Nzk5MmItMWUyMS0xMWU5LTk0ZDItZm...       2-7   \n",
       "4      4  UHJvcG9zYWw6ODU5NWMyOTYtMWUyMS0xMWU5LTk0ZDItZm...       2-8   \n",
       "\n",
       "                   title   createdAt publishedAt updatedAt  trashed  \\\n",
       "0  transition écologique  2019-01-22  2019-01-22      None    False   \n",
       "1       La surpopulation  2019-01-22  2019-01-22      None    False   \n",
       "2                 climat  2019-01-22  2019-01-22      None    False   \n",
       "3      POLLUTION AIR EAU  2019-01-22  2019-01-22      None    False   \n",
       "4   Economie vs Ecologie  2019-01-22  2019-01-22      None    False   \n",
       "\n",
       "  trashedStatus                                           authorId  \\\n",
       "0           NaN  VXNlcjoxMTQwMTc0YS0xZTFmLTExZTktOTRkMi1mYTE2M2...   \n",
       "1           NaN  VXNlcjpjOWYxZWQ1NS0xYzEwLTExZTktOTRkMi1mYTE2M2...   \n",
       "2           NaN  VXNlcjozZjlhNzAwOS0xYTc2LTExZTktOTRkMi1mYTE2M2...   \n",
       "3           NaN  VXNlcjozOWQwNzJjNC0xZDEwLTExZTktOTRkMi1mYTE2M2...   \n",
       "4           NaN  VXNlcjo3M2YxN2NlZS0xZDRiLTExZTktOTRkMi1mYTE2M2...   \n",
       "\n",
       "            authorType  authorZipCode  \\\n",
       "0  Citoyen / Citoyenne          97231   \n",
       "1  Citoyen / Citoyenne          57000   \n",
       "2  Citoyen / Citoyenne          34140   \n",
       "3  Citoyen / Citoyenne          17400   \n",
       "4  Citoyen / Citoyenne          35430   \n",
       "\n",
       "                                              answer  \\\n",
       "0                                                      \n",
       "1  Les problèmes auxquels se trouve confronté l’e...   \n",
       "2    Les dérèglements climatiques (crue, sécheresse)   \n",
       "3                              La pollution de l'air   \n",
       "4  La biodiversité et la disparition de certaines...   \n",
       "\n",
       "                                            question  positivity  intensity  \\\n",
       "0  Quel est aujourd'hui pour vous le problème con...       0.000       0.00   \n",
       "1  Quel est aujourd'hui pour vous le problème con...       0.043       0.19   \n",
       "2  Quel est aujourd'hui pour vous le problème con...      -0.300       0.65   \n",
       "3  Quel est aujourd'hui pour vous le problème con...       0.000       0.00   \n",
       "4  Quel est aujourd'hui pour vous le problème con...       0.290       0.15   \n",
       "\n",
       "   sentiment  \n",
       "0    0.00000  \n",
       "1    0.00817  \n",
       "2   -0.19500  \n",
       "3    0.00000  \n",
       "4    0.04350  "
      ]
     },
     "execution_count": 43,
     "metadata": {},
     "output_type": "execute_result"
    }
   ],
   "source": [
    "df_elastic.head()"
   ]
  },
  {
   "cell_type": "code",
   "execution_count": 44,
   "metadata": {},
   "outputs": [],
   "source": [
    "\n",
    "df_elastic.to_csv(\"ecologie_enriched.csv\", encoding='utf-8', index=False)\n"
   ]
  },
  {
   "cell_type": "markdown",
   "metadata": {},
   "source": [
    "## Sentiment analysis component using translation and flair"
   ]
  },
  {
   "cell_type": "markdown",
   "metadata": {},
   "source": [
    "Cf Democratie notebook for more detailed information"
   ]
  },
  {
   "cell_type": "markdown",
   "metadata": {},
   "source": [
    "### Translation"
   ]
  },
  {
   "cell_type": "markdown",
   "metadata": {},
   "source": [
    "### Flair part"
   ]
  },
  {
   "cell_type": "markdown",
   "metadata": {},
   "source": [
    "## Geocoding and source adding"
   ]
  },
  {
   "cell_type": "markdown",
   "metadata": {},
   "source": [
    "geocoding is a file that has been downloaded using http://www.nosdonnees.fr/wiki/index.php/Image:EUCircos_Regions_departements_circonscriptions_communes_gps.csv.gz"
   ]
  },
  {
   "cell_type": "code",
   "execution_count": 45,
   "metadata": {},
   "outputs": [],
   "source": [
    "df_elastic_clean = pd.read_csv('ecologie_enriched.csv', encoding='utf-8', engine='python')"
   ]
  },
  {
   "cell_type": "code",
   "execution_count": 46,
   "metadata": {},
   "outputs": [
    {
     "data": {
      "text/plain": [
       "Index(['index', 'id', 'reference', 'title', 'createdAt', 'publishedAt',\n",
       "       'updatedAt', 'trashed', 'trashedStatus', 'authorId', 'authorType',\n",
       "       'authorZipCode', 'answer', 'question', 'positivity', 'intensity',\n",
       "       'sentiment'],\n",
       "      dtype='object')"
      ]
     },
     "execution_count": 46,
     "metadata": {},
     "output_type": "execute_result"
    }
   ],
   "source": [
    "df_elastic_clean.columns"
   ]
  },
  {
   "cell_type": "code",
   "execution_count": 49,
   "metadata": {},
   "outputs": [],
   "source": [
    "try:\n",
    "    df_elastic = df_elastic_clean.drop(['departement','city','latitude','longitude'], axis=1)\n",
    "    df_elastic = df_elastic.drop([\"codes_postaux_x\",\"codes_postaux_y\"], axis=1)\n",
    "except:\n",
    "    pass\n",
    "def code_correction(code):\n",
    "    if len(code)==2:\n",
    "        return(str(code+'000'))\n",
    "    if len(code)==4:\n",
    "        return(str('0'+code))\n",
    "    return(str(code))\n",
    "\n",
    "df_elastic['authorZipCode']=df_elastic['authorZipCode'].astype(str)\n",
    "df_elastic['authorZipCode']=df_elastic['authorZipCode'].apply(code_correction)"
   ]
  },
  {
   "cell_type": "code",
   "execution_count": 52,
   "metadata": {},
   "outputs": [],
   "source": [
    "geocoding = pd.read_csv('geocoding_corrected.csv', sep=';')\n",
    "\n",
    "geocoding['codes_postaux']=geocoding['codes_postaux'].astype(str)\n",
    "\n",
    "def code_correction(code):\n",
    "    if len(code)==2:\n",
    "        return(code+'000')\n",
    "    if len(code)==4:\n",
    "        return('0'+code)\n",
    "    return(code)\n",
    "\n",
    "geocoding['codes_postaux']=geocoding['codes_postaux'].apply(code_correction)\n",
    "\n",
    "df_elastic['authorZipCode']=df_elastic['authorZipCode'].astype(str)\n",
    "geocoding= (geocoding[[\"nom_departement\",\"nom_commune\",\"codes_postaux\",\"latitude\",\"longitude\"]]\n",
    "            .sort_values(by=[\"codes_postaux\"], axis=0)\n",
    "            .drop_duplicates([\"codes_postaux\"], 'first')\n",
    "            .rename(columns={\"nom_departement\":\"departement\", \"nom_commune\":\"city\"}))\n",
    "geocoding=geocoding.fillna(method='pad')\n",
    "df_elastic = pd.merge(df_elastic, geocoding, how='left', left_on = 'authorZipCode', right_on='codes_postaux').drop(['codes_postaux'],axis=1)"
   ]
  },
  {
   "cell_type": "code",
   "execution_count": 51,
   "metadata": {},
   "outputs": [
    {
     "data": {
      "text/plain": [
       "0    97231\n",
       "1    57000\n",
       "2    34140\n",
       "3    17400\n",
       "4    35430\n",
       "Name: authorZipCode, dtype: object"
      ]
     },
     "execution_count": 51,
     "metadata": {},
     "output_type": "execute_result"
    }
   ],
   "source": [
    "df_elastic['authorZipCode'].head()"
   ]
  },
  {
   "cell_type": "code",
   "execution_count": 53,
   "metadata": {},
   "outputs": [
    {
     "data": {
      "text/plain": [
       "0         1456\n",
       "87100      848\n",
       "83100      816\n",
       "37100      752\n",
       "72100      704\n",
       "94210      672\n",
       "99999      624\n",
       "38920      576\n",
       "76100      560\n",
       "13540      560\n",
       "68200      544\n",
       "99000      528\n",
       "59240      512\n",
       "57950      416\n",
       "06160      416\n",
       "76620      400\n",
       "13080      368\n",
       "66100      368\n",
       "13290      352\n",
       "57970      336\n",
       "80090      336\n",
       "06150      320\n",
       "98800      320\n",
       "98713      304\n",
       "93210      288\n",
       "67118      272\n",
       "57155      256\n",
       "33970      256\n",
       "97490      240\n",
       "78711      240\n",
       "          ... \n",
       "70014       16\n",
       "02206       16\n",
       "26900       16\n",
       "09131       16\n",
       "50931       16\n",
       "38106       16\n",
       "42382       16\n",
       "92438       16\n",
       "81735       16\n",
       "76135       16\n",
       "98829       16\n",
       "98875       16\n",
       "200         16\n",
       "02313       16\n",
       "68309       16\n",
       "77966       16\n",
       "17601       16\n",
       "411         16\n",
       "663000      16\n",
       "40102       16\n",
       "45242       16\n",
       "921120      16\n",
       "64293       16\n",
       "13117       16\n",
       "57855       16\n",
       "01307       16\n",
       "10538       16\n",
       "334070      16\n",
       "01626       16\n",
       "681200      16\n",
       "Name: authorZipCode, Length: 675, dtype: int64"
      ]
     },
     "execution_count": 53,
     "metadata": {},
     "output_type": "execute_result"
    }
   ],
   "source": [
    "df_elastic[df_elastic['latitude'].isna()][\"authorZipCode\"].value_counts()"
   ]
  },
  {
   "cell_type": "code",
   "execution_count": null,
   "metadata": {},
   "outputs": [],
   "source": [
    "df_elastic['source']='Grand débat - transition écologique'\n",
    "#Sometimes we need to force conversion to bool: why??\n",
    "df_elastic['trashed'] = np.where((df_elastic['trashed'] =='True') & (df_elastic['trashed'] =='False'),True,False)"
   ]
  },
  {
   "cell_type": "code",
   "execution_count": 62,
   "metadata": {},
   "outputs": [],
   "source": [
    "df_elastic.to_csv(\"ecologie_enriched.csv\", encoding='utf-8', index=False)"
   ]
  },
  {
   "cell_type": "markdown",
   "metadata": {},
   "source": [
    "## json writing for elasticsearch"
   ]
  },
  {
   "cell_type": "code",
   "execution_count": 55,
   "metadata": {},
   "outputs": [],
   "source": [
    "df_elastic = pd.read_csv('ecologie_enriched.csv', encoding='utf-8', engine='python')"
   ]
  },
  {
   "cell_type": "code",
   "execution_count": 63,
   "metadata": {},
   "outputs": [
    {
     "data": {
      "text/plain": [
       "1"
      ]
     },
     "execution_count": 63,
     "metadata": {},
     "output_type": "execute_result"
    }
   ],
   "source": [
    "f = open(\"ecologie_base_pre_es.json\", \"w\")\n",
    "\n",
    "for row in df_elastic.iterrows():\n",
    "    row[1].to_json(f, orient='index', force_ascii=True)\n",
    "    f.write(\"\\n\")\n",
    "f.write(\"\\n\")"
   ]
  },
  {
   "cell_type": "markdown",
   "metadata": {},
   "source": [
    "## Ingestion in elasticsearch"
   ]
  },
  {
   "cell_type": "code",
   "execution_count": 64,
   "metadata": {},
   "outputs": [],
   "source": [
    "with open('./ecologie_base_pre_es.json', 'r') as r, open('./ecologie_base_es.json', 'w') as w:    \n",
    "    for num, line in enumerate(r):\n",
    "        if line[0]!='[' and line[0]!=']':\n",
    "            newline = '{\"index\":{\"_id\":'+ '\"e_' + str(num)+'\"}}'+'\\n'\n",
    "            if line[0]=='\\n':\n",
    "                newline='\\n'\n",
    "            elif line[-2]== ',':\n",
    "                newline += line[:-2] + \"\\n\" if \"\\n\" in line else line[:-1]\n",
    "            else:\n",
    "                newline += line[:-1] + \"\\n\" if \"\\n\" in line else line[:-1]\n",
    "        else:\n",
    "            newline = ''               \n",
    "        w.write(newline)"
   ]
  }
 ],
 "metadata": {
  "kernelspec": {
   "display_name": "Python 3",
   "language": "python",
   "name": "python3"
  },
  "language_info": {
   "codemirror_mode": {
    "name": "ipython",
    "version": 3
   },
   "file_extension": ".py",
   "mimetype": "text/x-python",
   "name": "python",
   "nbconvert_exporter": "python",
   "pygments_lexer": "ipython3",
   "version": "3.6.5"
  }
 },
 "nbformat": 4,
 "nbformat_minor": 2
}
