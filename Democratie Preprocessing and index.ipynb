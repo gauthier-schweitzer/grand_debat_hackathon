{
 "cells": [
  {
   "cell_type": "code",
   "execution_count": 1,
   "metadata": {},
   "outputs": [],
   "source": [
    "import pandas as pd\n",
    "import numpy as np"
   ]
  },
  {
   "cell_type": "markdown",
   "metadata": {},
   "source": [
    "## CSV Importation and transformation"
   ]
  },
  {
   "cell_type": "markdown",
   "metadata": {},
   "source": [
    "We import the csv file"
   ]
  },
  {
   "cell_type": "code",
   "execution_count": 2,
   "metadata": {},
   "outputs": [
    {
     "name": "stderr",
     "output_type": "stream",
     "text": [
      "C:\\ProgramData\\Anaconda3\\lib\\site-packages\\IPython\\core\\interactiveshell.py:2785: DtypeWarning: Columns (7) have mixed types. Specify dtype option on import or set low_memory=False.\n",
      "  interactivity=interactivity, compiler=compiler, result=result)\n"
     ]
    },
    {
     "data": {
      "text/html": [
       "<div>\n",
       "<style scoped>\n",
       "    .dataframe tbody tr th:only-of-type {\n",
       "        vertical-align: middle;\n",
       "    }\n",
       "\n",
       "    .dataframe tbody tr th {\n",
       "        vertical-align: top;\n",
       "    }\n",
       "\n",
       "    .dataframe thead th {\n",
       "        text-align: right;\n",
       "    }\n",
       "</style>\n",
       "<table border=\"1\" class=\"dataframe\">\n",
       "  <thead>\n",
       "    <tr style=\"text-align: right;\">\n",
       "      <th></th>\n",
       "      <th>id</th>\n",
       "      <th>reference</th>\n",
       "      <th>title</th>\n",
       "      <th>createdAt</th>\n",
       "      <th>publishedAt</th>\n",
       "      <th>updatedAt</th>\n",
       "      <th>trashed</th>\n",
       "      <th>trashedStatus</th>\n",
       "      <th>authorId</th>\n",
       "      <th>authorType</th>\n",
       "      <th>...</th>\n",
       "      <th>QUXVlc3Rpb246MTM1 - Quel pourrait être le rôle de chacun pour faire reculer les incivilités dans la société ?</th>\n",
       "      <th>QUXVlc3Rpb246MTM2 - Quelles sont les discriminations les plus répandues dont vous êtes témoin ou victime ?</th>\n",
       "      <th>QUXVlc3Rpb246MTM3 - Que faudrait-il faire pour lutter contre ces discriminations et construire une société plus solidaire et plus tolérante ?</th>\n",
       "      <th>QUXVlc3Rpb246MTM4 - Pensez-vous qu'il faille instaurer des contreparties aux différentes allocations de solidarité ?</th>\n",
       "      <th>QUXVlc3Rpb246MTM5 - Si oui, lesquelles ?</th>\n",
       "      <th>QUXVlc3Rpb246MTQx - Que pensez-vous de la situation de l'immigration en France aujourd'hui et de la politique migratoire ? Quelles sont, selon vous, les critères à mettre en place pour définir la politique migratoire ?</th>\n",
       "      <th>QUXVlc3Rpb246MTQy - En matière d'immigration, une fois nos obligations d'asile remplies, souhaitez-vous que nous puissions nous fixer des objectifs annuels définis par le Parlement ?</th>\n",
       "      <th>QUXVlc3Rpb246MTQz - Que proposez-vous afin de répondre à ce défi qui va durer ?</th>\n",
       "      <th>QUXVlc3Rpb246MTQ0 - Quelles sont, selon vous, les modalités d'intégration les plus efficaces et les plus justes à mettre en place aujourd'hui dans la société ?</th>\n",
       "      <th>QUXVlc3Rpb246MTQ1 - Y a-t-il d'autres points sur la démocratie et la citoyenneté sur lesquels vous souhaiteriez vous exprimer ?</th>\n",
       "    </tr>\n",
       "  </thead>\n",
       "  <tbody>\n",
       "    <tr>\n",
       "      <th>0</th>\n",
       "      <td>UHJvcG9zYWw6MWVjMTkxYjAtMWUyMS0xMWU5LTk0ZDItZm...</td>\n",
       "      <td>1-2</td>\n",
       "      <td>Les augmentations de rémunérations</td>\n",
       "      <td>2019-01-22 09:38:41</td>\n",
       "      <td>2019-01-22 09:38:41</td>\n",
       "      <td>NaN</td>\n",
       "      <td>False</td>\n",
       "      <td>NaN</td>\n",
       "      <td>VXNlcjo4Mjc4NzQxYS0xZTFkLTExZTktOTRkMi1mYTE2M2...</td>\n",
       "      <td>Citoyen / Citoyenne</td>\n",
       "      <td>...</td>\n",
       "      <td>NaN</td>\n",
       "      <td>NaN</td>\n",
       "      <td>NaN</td>\n",
       "      <td>NaN</td>\n",
       "      <td>NaN</td>\n",
       "      <td>NaN</td>\n",
       "      <td>NaN</td>\n",
       "      <td>NaN</td>\n",
       "      <td>NaN</td>\n",
       "      <td>Afin d’éviter de creuser les inégalités ne plu...</td>\n",
       "    </tr>\n",
       "    <tr>\n",
       "      <th>1</th>\n",
       "      <td>UHJvcG9zYWw6NTA4N2I3ZDEtMWUyMS0xMWU5LTk0ZDItZm...</td>\n",
       "      <td>1-3</td>\n",
       "      <td>rénover l'enquête publique pour en faire un vr...</td>\n",
       "      <td>2019-01-22 09:40:04</td>\n",
       "      <td>2019-01-22 09:40:04</td>\n",
       "      <td>2019-01-22 09:41:00</td>\n",
       "      <td>False</td>\n",
       "      <td>NaN</td>\n",
       "      <td>VXNlcjo4OWQ3MzE5My0xZDYwLTExZTktOTRkMi1mYTE2M2...</td>\n",
       "      <td>Citoyen / Citoyenne</td>\n",
       "      <td>...</td>\n",
       "      <td>NaN</td>\n",
       "      <td>NaN</td>\n",
       "      <td>NaN</td>\n",
       "      <td>NaN</td>\n",
       "      <td>NaN</td>\n",
       "      <td>NaN</td>\n",
       "      <td>NaN</td>\n",
       "      <td>NaN</td>\n",
       "      <td>NaN</td>\n",
       "      <td>NaN</td>\n",
       "    </tr>\n",
       "  </tbody>\n",
       "</table>\n",
       "<p>2 rows × 48 columns</p>\n",
       "</div>"
      ],
      "text/plain": [
       "                                                  id reference  \\\n",
       "0  UHJvcG9zYWw6MWVjMTkxYjAtMWUyMS0xMWU5LTk0ZDItZm...       1-2   \n",
       "1  UHJvcG9zYWw6NTA4N2I3ZDEtMWUyMS0xMWU5LTk0ZDItZm...       1-3   \n",
       "\n",
       "                                               title            createdAt  \\\n",
       "0                 Les augmentations de rémunérations  2019-01-22 09:38:41   \n",
       "1  rénover l'enquête publique pour en faire un vr...  2019-01-22 09:40:04   \n",
       "\n",
       "           publishedAt            updatedAt  trashed trashedStatus  \\\n",
       "0  2019-01-22 09:38:41                  NaN    False           NaN   \n",
       "1  2019-01-22 09:40:04  2019-01-22 09:41:00    False           NaN   \n",
       "\n",
       "                                            authorId           authorType  \\\n",
       "0  VXNlcjo4Mjc4NzQxYS0xZTFkLTExZTktOTRkMi1mYTE2M2...  Citoyen / Citoyenne   \n",
       "1  VXNlcjo4OWQ3MzE5My0xZDYwLTExZTktOTRkMi1mYTE2M2...  Citoyen / Citoyenne   \n",
       "\n",
       "                                                                ...                                                                \\\n",
       "0                                                               ...                                                                 \n",
       "1                                                               ...                                                                 \n",
       "\n",
       "   QUXVlc3Rpb246MTM1 - Quel pourrait être le rôle de chacun pour faire reculer les incivilités dans la société ?  \\\n",
       "0                                                NaN                                                               \n",
       "1                                                NaN                                                               \n",
       "\n",
       "  QUXVlc3Rpb246MTM2 - Quelles sont les discriminations les plus répandues dont vous êtes témoin ou victime ?  \\\n",
       "0                                                NaN                                                           \n",
       "1                                                NaN                                                           \n",
       "\n",
       "  QUXVlc3Rpb246MTM3 - Que faudrait-il faire pour lutter contre ces discriminations et construire une société plus solidaire et plus tolérante ?  \\\n",
       "0                                                NaN                                                                                              \n",
       "1                                                NaN                                                                                              \n",
       "\n",
       "  QUXVlc3Rpb246MTM4 - Pensez-vous qu'il faille instaurer des contreparties aux différentes allocations de solidarité ?  \\\n",
       "0                                                NaN                                                                     \n",
       "1                                                NaN                                                                     \n",
       "\n",
       "  QUXVlc3Rpb246MTM5 - Si oui, lesquelles ?  \\\n",
       "0                                      NaN   \n",
       "1                                      NaN   \n",
       "\n",
       "  QUXVlc3Rpb246MTQx - Que pensez-vous de la situation de l'immigration en France aujourd'hui et de la politique migratoire ? Quelles sont, selon vous, les critères à mettre en place pour définir la politique migratoire ?  \\\n",
       "0                                                NaN                                                                                                                                                                           \n",
       "1                                                NaN                                                                                                                                                                           \n",
       "\n",
       "  QUXVlc3Rpb246MTQy - En matière d'immigration, une fois nos obligations d'asile remplies, souhaitez-vous que nous puissions nous fixer des objectifs annuels définis par le Parlement ?  \\\n",
       "0                                                NaN                                                                                                                                       \n",
       "1                                                NaN                                                                                                                                       \n",
       "\n",
       "  QUXVlc3Rpb246MTQz - Que proposez-vous afin de répondre à ce défi qui va durer ?  \\\n",
       "0                                                NaN                                \n",
       "1                                                NaN                                \n",
       "\n",
       "  QUXVlc3Rpb246MTQ0 - Quelles sont, selon vous, les modalités d'intégration les plus efficaces et les plus justes à mettre en place aujourd'hui dans la société ?  \\\n",
       "0                                                NaN                                                                                                                \n",
       "1                                                NaN                                                                                                                \n",
       "\n",
       "  QUXVlc3Rpb246MTQ1 - Y a-t-il d'autres points sur la démocratie et la citoyenneté sur lesquels vous souhaiteriez vous exprimer ?  \n",
       "0  Afin d’éviter de creuser les inégalités ne plu...                                                                               \n",
       "1                                                NaN                                                                               \n",
       "\n",
       "[2 rows x 48 columns]"
      ]
     },
     "execution_count": 2,
     "metadata": {},
     "output_type": "execute_result"
    }
   ],
   "source": [
    "df = pd.read_csv('DEMOCRATIE_ET_CITOYENNETE.csv')\n",
    "df.head(2)"
   ]
  },
  {
   "cell_type": "markdown",
   "metadata": {},
   "source": [
    "We correct the date to remove the HH:MM part"
   ]
  },
  {
   "cell_type": "code",
   "execution_count": 3,
   "metadata": {},
   "outputs": [],
   "source": [
    "def date_curation (date):\n",
    "    try: \n",
    "        return(date[:10])\n",
    "    except TypeError:\n",
    "        return(None)\n",
    "\n",
    "df['createdAt']=df['createdAt'].apply(date_curation)\n",
    "df['publishedAt']=df['createdAt'].apply(date_curation)\n",
    "df['updatedAt']=df['updatedAt'].apply(date_curation)"
   ]
  },
  {
   "cell_type": "markdown",
   "metadata": {},
   "source": [
    "We change the structure of the file to have one row per question answered"
   ]
  },
  {
   "cell_type": "code",
   "execution_count": 4,
   "metadata": {},
   "outputs": [
    {
     "name": "stdout",
     "output_type": "stream",
     "text": [
      "En qui faites-vous le plus confiance pour vous faire représenter dans la société et pourquoi ?\n",
      "11\n",
      "En dehors des élus politiques, faut-il donner un rôle plus important aux associations et aux organisations syndicales et professionnelles ?\n",
      "12\n",
      "Si oui, à quel type d'associations ou d'organisations ? Et avec quel rôle ?\n",
      "13\n",
      "Que faudrait-il faire pour renouer le lien entre les citoyens et les élus qui les représentent ?\n",
      "14\n",
      "Le non-cumul des mandats instauré en 2017 pour les parlementaires (députés et sénateurs) est :\n",
      "15\n",
      "Pourquoi ?\n",
      "16\n",
      "Que faudrait-il faire pour mieux représenter les différentes sensibilités politiques ?\n",
      "17\n",
      "Pensez-vous qu'il serait souhaitable de réduire le nombre d'élus (hors députés et sénateurs) ?\n",
      "18\n",
      "Si oui, lesquels ?\n",
      "19\n",
      "Que pensez-vous de la participation des citoyens aux élections et comment les inciter à y participer davantage ?\n",
      "20\n",
      "Faut-il prendre en compte le vote blanc ?\n",
      "21\n",
      "Si oui, de quelle manière ?\n",
      "22\n",
      "Que faudrait-il faire aujourd'hui pour mieux associer les citoyens aux grandes orientations et à la décision publique ? Comment mettre en place une démocratie plus participative ?\n",
      "23\n",
      "Faut-il faciliter le déclenchement du référendum d'initiative partagée (le RIP est organisé à l'initiative de membres du Parlement soutenu par une partie du corps électoral) qui est applicable depuis 2015 ?\n",
      "24\n",
      "Si oui, comment ?\n",
      "25\n",
      "Que faudrait-il faire pour consulter plus directement les citoyens sur l'utilisation de l'argent public, par l'Etat et les collectivités ?\n",
      "26\n",
      "Quel rôle nos assemblées, dont le Sénat et le Conseil économique, social et environnemental, doivent-elles jouer pour représenter nos territoires et la société civile ?\n",
      "27\n",
      "Faut-il les transformer ?\n",
      "28\n",
      "Si oui, comment ?\n",
      "29\n",
      "Que proposez-vous pour renforcer les principes de la laïcité dans le rapport entre l'Etat et les religions de notre pays ?\n",
      "30\n",
      "Comment garantir le respect par tous de la compréhension réciproque et des valeurs intangibles de la République ?\n",
      "31\n",
      "Que faudrait-il faire aujourd'hui pour renforcer l'engagement citoyen dans la société ?\n",
      "32\n",
      "Quels sont les comportements civiques qu'il faut promouvoir dans notre vie quotidienne ou collective ?\n",
      "33\n",
      "Que faudrait-il faire pour favoriser le développement de ces comportements civiques et par quels engagements concrets chacun peut-il y participer ?\n",
      "34\n",
      "Que faudrait-il faire pour valoriser l'engagement citoyen dans les parcours de vie, dans les relations avec l'administration et les pouvoirs publics ?\n",
      "35\n",
      "Quelles sont les incivilités les plus pénibles dans la vie quotidienne et que faudrait-il faire pour lutter contre ces incivilités ?\n",
      "36\n",
      "Que peuvent et doivent faire les pouvoirs publics pour répondre aux incivilités ?\n",
      "37\n",
      "Quel pourrait être le rôle de chacun pour faire reculer les incivilités dans la société ?\n",
      "38\n",
      "Quelles sont les discriminations les plus répandues dont vous êtes témoin ou victime ?\n",
      "39\n",
      "Que faudrait-il faire pour lutter contre ces discriminations et construire une société plus solidaire et plus tolérante ?\n",
      "40\n",
      "Pensez-vous qu'il faille instaurer des contreparties aux différentes allocations de solidarité ?\n",
      "41\n",
      "Si oui, lesquelles ?\n",
      "42\n",
      "Que pensez-vous de la situation de l'immigration en France aujourd'hui et de la politique migratoire ? Quelles sont, selon vous, les critères à mettre en place pour définir la politique migratoire ?\n",
      "43\n",
      "En matière d'immigration, une fois nos obligations d'asile remplies, souhaitez-vous que nous puissions nous fixer des objectifs annuels définis par le Parlement ?\n",
      "44\n",
      "Que proposez-vous afin de répondre à ce défi qui va durer ?\n",
      "45\n",
      "Quelles sont, selon vous, les modalités d'intégration les plus efficaces et les plus justes à mettre en place aujourd'hui dans la société ?\n",
      "46\n",
      "Y a-t-il d'autres points sur la démocratie et la citoyenneté sur lesquels vous souhaiteriez vous exprimer ?\n",
      "47\n"
     ]
    }
   ],
   "source": [
    "df_elastic = pd.DataFrame()\n",
    "colnumber = 11\n",
    "for question in (df.columns[colnumber:]):\n",
    "    df_temp = df.iloc[:,[0, 1, 2, 3, 4, 5, 6, 7, 8, 9, 10, colnumber]].copy().rename(columns={question : 'answer'})\n",
    "    df_temp[\"question\"]=question[20:]\n",
    "    df_elastic = pd.concat([df_elastic, df_temp])\n",
    "    print (question[20:])\n",
    "    print(colnumber)\n",
    "    colnumber +=1\n",
    "df_elastic = df_elastic.reset_index()"
   ]
  },
  {
   "cell_type": "markdown",
   "metadata": {},
   "source": [
    "## Sentiment analysis component using textblob"
   ]
  },
  {
   "cell_type": "code",
   "execution_count": 7,
   "metadata": {},
   "outputs": [],
   "source": [
    "from textblob import TextBlob\n",
    "from textblob_fr import PatternTagger, PatternAnalyzer"
   ]
  },
  {
   "cell_type": "code",
   "execution_count": 8,
   "metadata": {},
   "outputs": [],
   "source": [
    "def sentiment_analysis(expression):\n",
    "    blob = TextBlob(expression, pos_tagger=PatternTagger(), analyzer=PatternAnalyzer())\n",
    "    return (blob.sentiment[0], blob.sentiment[1])"
   ]
  },
  {
   "cell_type": "code",
   "execution_count": 9,
   "metadata": {},
   "outputs": [],
   "source": [
    "df_elastic['answer'] = df_elastic['answer'].fillna(\"\")\n",
    "df_elastic['positivity'], df_elastic['intensity'] = zip(*df_elastic['answer'].map(sentiment_analysis))"
   ]
  },
  {
   "cell_type": "code",
   "execution_count": 8,
   "metadata": {},
   "outputs": [],
   "source": [
    "df_elastic['sentiment'] = df_elastic['positivity']*df_elastic['intensity']"
   ]
  },
  {
   "cell_type": "code",
   "execution_count": 10,
   "metadata": {},
   "outputs": [],
   "source": [
    "df_elastic.to_csv(\"democratie_enriched.csv\", encoding='utf-8', index=False)"
   ]
  },
  {
   "cell_type": "markdown",
   "metadata": {},
   "source": [
    "## Sentiment analysis component using translation and flair"
   ]
  },
  {
   "cell_type": "markdown",
   "metadata": {},
   "source": [
    "### Translation"
   ]
  },
  {
   "cell_type": "code",
   "execution_count": null,
   "metadata": {},
   "outputs": [],
   "source": [
    "import pandas as pd\n",
    "import time\n",
    "df_elastic = pd.read_csv('democratie_enriched.csv', encoding='utf-8', engine='python')\n",
    "df_elastic['answer'] = df_elastic['answer'].fillna(\"\")"
   ]
  },
  {
   "cell_type": "markdown",
   "metadata": {},
   "source": [
    "Tried to do it using googletrans, free API that uses google Translate API, but I got kicked by Google :/ even with a VPN, using my phone as a modem"
   ]
  },
  {
   "cell_type": "markdown",
   "metadata": {},
   "source": [
    "```python\n",
    "errors = pd.read_csv('errors.csv')\n",
    "batch_size = 10\n",
    "alert_i = errors[\"alert_i\"]\n",
    "alert_min = errors[\"alert_min\"]\n",
    "alert_max = errors[\"alert_max\"]\n",
    "warning = 0\n",
    "for i in range(int(errors.iloc[-1]['alert_max']/batch_size), int((len(df_elastic))/batch_size)):\n",
    "    minim = i*batch_size\n",
    "    maxim = min((i+1)*batch_size, len(df_elastic))\n",
    "    mini = df_elastic.iloc[minim:maxim][['answer']].copy()\n",
    "    concat = ''\n",
    "    for row in mini['answer']:\n",
    "        if row =='':\n",
    "            row = '0000'\n",
    "        concat= concat+row+'\\n\\n\\n'\n",
    "    \n",
    "    from googletrans import Translator\n",
    "\n",
    "    translator = Translator()\n",
    "    try:\n",
    "        result = translator.translate(concat, src = 'fr', dest = 'en').text\n",
    "        warning = 0\n",
    "        df_elastic.translation.iloc[minim:maxim] = result.split(\"\\n\\n\\n\")\n",
    "    except:\n",
    "        if warning ==1 :\n",
    "            break\n",
    "        print(\"raise error for {i}, {minim}\".format(i=i,minim=minim))\n",
    "        alert_i=alert_i.append(pd.Series(i)).reset_index(drop=True)\n",
    "        alert_max=alert_max.append(pd.Series(maxim)).reset_index(drop=True)\n",
    "        alert_min=alert_min.append(pd.Series(minim)).reset_index(drop=True)\n",
    "        warning = 1\n",
    "        pass\n",
    "    \n",
    "    if (maxim%2000==0):\n",
    "        print(\"{i}, {maxim}\".format(i=i,maxim=maxim))\n",
    "```"
   ]
  },
  {
   "cell_type": "markdown",
   "metadata": {},
   "source": [
    "### Flair part"
   ]
  },
  {
   "cell_type": "markdown",
   "metadata": {},
   "source": [
    "To be done once the translation part is ok"
   ]
  },
  {
   "cell_type": "markdown",
   "metadata": {},
   "source": [
    "## Geocoding and source adding"
   ]
  },
  {
   "cell_type": "markdown",
   "metadata": {},
   "source": [
    "geocoding is a file that has been downloaded using http://www.nosdonnees.fr/wiki/index.php/Image:EUCircos_Regions_departements_circonscriptions_communes_gps.csv.gz"
   ]
  },
  {
   "cell_type": "code",
   "execution_count": 2,
   "metadata": {},
   "outputs": [],
   "source": [
    "df_elastic_clean = pd.read_csv('democratie_enriched.csv', encoding='utf-8', engine='python')"
   ]
  },
  {
   "cell_type": "code",
   "execution_count": 4,
   "metadata": {},
   "outputs": [],
   "source": [
    "try:\n",
    "    df_elastic = df_elastic_clean.drop(['departement','city','latitude','longitude'], axis=1)\n",
    "except:\n",
    "    pass\n",
    "def code_correction(code):\n",
    "    if len(code)==4:\n",
    "        return(str(code[:-2]+'000'))\n",
    "    if len(code)==6:\n",
    "        return(str('0'+code[:-2]))\n",
    "    return(str(code[:-2]))\n",
    "\n",
    "df_elastic['authorZipCode']=df_elastic['authorZipCode'].astype(str)\n",
    "df_elastic['authorZipCode']=df_elastic['authorZipCode'].apply(code_correction)"
   ]
  },
  {
   "cell_type": "code",
   "execution_count": 5,
   "metadata": {},
   "outputs": [],
   "source": [
    "geocoding = pd.read_csv('geocoding_corrected.csv', sep=';')\n",
    "\n",
    "geocoding['codes_postaux']=geocoding['codes_postaux'].astype(str)\n",
    "\n",
    "def code_correction(code):\n",
    "    if len(code)==2:\n",
    "        return(code+'000')\n",
    "    if len(code)==4:\n",
    "        return('0'+code)\n",
    "    return(code)\n",
    "\n",
    "geocoding['codes_postaux']=geocoding['codes_postaux'].apply(code_correction)\n",
    "\n",
    "df_elastic['authorZipCode']=df_elastic['authorZipCode'].astype(str)\n",
    "geocoding= (geocoding[[\"nom_departement\",\"nom_commune\",\"codes_postaux\",\"latitude\",\"longitude\"]]\n",
    "            .sort_values(by=[\"codes_postaux\"], axis=0)\n",
    "            .drop_duplicates([\"codes_postaux\"], 'first')\n",
    "            .rename(columns={\"nom_departement\":\"departement\", \"nom_commune\":\"city\"}))\n",
    "geocoding=geocoding.fillna(method='pad')\n",
    "df_elastic = pd.merge(df_elastic, geocoding, how='left', left_on = 'authorZipCode', right_on='codes_postaux')"
   ]
  },
  {
   "cell_type": "code",
   "execution_count": 6,
   "metadata": {},
   "outputs": [
    {
     "data": {
      "text/html": [
       "<div>\n",
       "<style scoped>\n",
       "    .dataframe tbody tr th:only-of-type {\n",
       "        vertical-align: middle;\n",
       "    }\n",
       "\n",
       "    .dataframe tbody tr th {\n",
       "        vertical-align: top;\n",
       "    }\n",
       "\n",
       "    .dataframe thead th {\n",
       "        text-align: right;\n",
       "    }\n",
       "</style>\n",
       "<table border=\"1\" class=\"dataframe\">\n",
       "  <thead>\n",
       "    <tr style=\"text-align: right;\">\n",
       "      <th></th>\n",
       "      <th>index</th>\n",
       "      <th>id</th>\n",
       "      <th>reference</th>\n",
       "      <th>title</th>\n",
       "      <th>createdAt</th>\n",
       "      <th>publishedAt</th>\n",
       "      <th>updatedAt</th>\n",
       "      <th>trashed</th>\n",
       "      <th>trashedStatus</th>\n",
       "      <th>authorId</th>\n",
       "      <th>...</th>\n",
       "      <th>question</th>\n",
       "      <th>positivity</th>\n",
       "      <th>intensity</th>\n",
       "      <th>sentiment</th>\n",
       "      <th>source</th>\n",
       "      <th>departement</th>\n",
       "      <th>city</th>\n",
       "      <th>codes_postaux</th>\n",
       "      <th>latitude</th>\n",
       "      <th>longitude</th>\n",
       "    </tr>\n",
       "  </thead>\n",
       "  <tbody>\n",
       "    <tr>\n",
       "      <th>2739993</th>\n",
       "      <td>74049</td>\n",
       "      <td>UHJvcG9zYWw6ODQzY2YxMDctNDE4YS0xMWU5LWJmNTYtZm...</td>\n",
       "      <td>1-89234</td>\n",
       "      <td>UNE DEMOCRATIE EQUITABLE</td>\n",
       "      <td>2019-03-08</td>\n",
       "      <td>2019-03-08</td>\n",
       "      <td>NaN</td>\n",
       "      <td>False</td>\n",
       "      <td>NaN</td>\n",
       "      <td>VXNlcjo0ZWQ2YmFiMS0zZDk0LTExZTktYmY1Ni1mYTE2M2...</td>\n",
       "      <td>...</td>\n",
       "      <td>Y a-t-il d'autres points sur la démocratie et ...</td>\n",
       "      <td>0.0</td>\n",
       "      <td>0.0</td>\n",
       "      <td>0.0</td>\n",
       "      <td>Grand debat - democratie et citoyennete</td>\n",
       "      <td>NaN</td>\n",
       "      <td>NaN</td>\n",
       "      <td>NaN</td>\n",
       "      <td>NaN</td>\n",
       "      <td>NaN</td>\n",
       "    </tr>\n",
       "    <tr>\n",
       "      <th>2739994</th>\n",
       "      <td>74050</td>\n",
       "      <td>UHJvcG9zYWw6OTJlMmQ4MzctNDE4YS0xMWU5LWJmNTYtZm...</td>\n",
       "      <td>1-89235</td>\n",
       "      <td>Pragmatiqme</td>\n",
       "      <td>2019-03-08</td>\n",
       "      <td>2019-03-08</td>\n",
       "      <td>NaN</td>\n",
       "      <td>False</td>\n",
       "      <td>NaN</td>\n",
       "      <td>VXNlcjplMmIyNzljZi00MTgxLTExZTktYmY1Ni1mYTE2M2...</td>\n",
       "      <td>...</td>\n",
       "      <td>Y a-t-il d'autres points sur la démocratie et ...</td>\n",
       "      <td>0.0</td>\n",
       "      <td>0.0</td>\n",
       "      <td>0.0</td>\n",
       "      <td>Grand debat - democratie et citoyennete</td>\n",
       "      <td>NaN</td>\n",
       "      <td>NaN</td>\n",
       "      <td>NaN</td>\n",
       "      <td>NaN</td>\n",
       "      <td>NaN</td>\n",
       "    </tr>\n",
       "    <tr>\n",
       "      <th>2739995</th>\n",
       "      <td>74051</td>\n",
       "      <td>UHJvcG9zYWw6YjEzNmQ1YTItNDE4YS0xMWU5LWJmNTYtZm...</td>\n",
       "      <td>1-89236</td>\n",
       "      <td>Revision totale</td>\n",
       "      <td>2019-03-08</td>\n",
       "      <td>2019-03-08</td>\n",
       "      <td>NaN</td>\n",
       "      <td>False</td>\n",
       "      <td>NaN</td>\n",
       "      <td>VXNlcjoxMTRmNzk1OC00MTgyLTExZTktYmY1Ni1mYTE2M2...</td>\n",
       "      <td>...</td>\n",
       "      <td>Y a-t-il d'autres points sur la démocratie et ...</td>\n",
       "      <td>0.0</td>\n",
       "      <td>0.0</td>\n",
       "      <td>0.0</td>\n",
       "      <td>Grand debat - democratie et citoyennete</td>\n",
       "      <td>NaN</td>\n",
       "      <td>NaN</td>\n",
       "      <td>NaN</td>\n",
       "      <td>NaN</td>\n",
       "      <td>NaN</td>\n",
       "    </tr>\n",
       "    <tr>\n",
       "      <th>2739996</th>\n",
       "      <td>74052</td>\n",
       "      <td>UHJvcG9zYWw6YmQzZDliY2EtNDE4YS0xMWU5LWJmNTYtZm...</td>\n",
       "      <td>1-89238</td>\n",
       "      <td>Trop d'élus qui ne servent à rien!</td>\n",
       "      <td>2019-03-08</td>\n",
       "      <td>2019-03-08</td>\n",
       "      <td>NaN</td>\n",
       "      <td>False</td>\n",
       "      <td>NaN</td>\n",
       "      <td>VXNlcjoxOWZhYzQ1Yi0xZmQ2LTExZTktOTRkMi1mYTE2M2...</td>\n",
       "      <td>...</td>\n",
       "      <td>Y a-t-il d'autres points sur la démocratie et ...</td>\n",
       "      <td>0.0</td>\n",
       "      <td>0.0</td>\n",
       "      <td>0.0</td>\n",
       "      <td>Grand debat - democratie et citoyennete</td>\n",
       "      <td>NaN</td>\n",
       "      <td>NaN</td>\n",
       "      <td>NaN</td>\n",
       "      <td>NaN</td>\n",
       "      <td>NaN</td>\n",
       "    </tr>\n",
       "    <tr>\n",
       "      <th>2739997</th>\n",
       "      <td>74053</td>\n",
       "      <td>UHJvcG9zYWw6Yzg4MWM3MzMtNDE4YS0xMWU5LWJmNTYtZm...</td>\n",
       "      <td>1-89239</td>\n",
       "      <td>Pourun juste équilibre entre représentation et...</td>\n",
       "      <td>2019-03-08</td>\n",
       "      <td>2019-03-08</td>\n",
       "      <td>NaN</td>\n",
       "      <td>False</td>\n",
       "      <td>NaN</td>\n",
       "      <td>VXNlcjo2NTY2N2ZiNC00MTgzLTExZTktYmY1Ni1mYTE2M2...</td>\n",
       "      <td>...</td>\n",
       "      <td>Y a-t-il d'autres points sur la démocratie et ...</td>\n",
       "      <td>0.0</td>\n",
       "      <td>0.0</td>\n",
       "      <td>0.0</td>\n",
       "      <td>Grand debat - democratie et citoyennete</td>\n",
       "      <td>NaN</td>\n",
       "      <td>NaN</td>\n",
       "      <td>NaN</td>\n",
       "      <td>NaN</td>\n",
       "      <td>NaN</td>\n",
       "    </tr>\n",
       "  </tbody>\n",
       "</table>\n",
       "<p>5 rows × 23 columns</p>\n",
       "</div>"
      ],
      "text/plain": [
       "         index                                                 id reference  \\\n",
       "2739993  74049  UHJvcG9zYWw6ODQzY2YxMDctNDE4YS0xMWU5LWJmNTYtZm...   1-89234   \n",
       "2739994  74050  UHJvcG9zYWw6OTJlMmQ4MzctNDE4YS0xMWU5LWJmNTYtZm...   1-89235   \n",
       "2739995  74051  UHJvcG9zYWw6YjEzNmQ1YTItNDE4YS0xMWU5LWJmNTYtZm...   1-89236   \n",
       "2739996  74052  UHJvcG9zYWw6YmQzZDliY2EtNDE4YS0xMWU5LWJmNTYtZm...   1-89238   \n",
       "2739997  74053  UHJvcG9zYWw6Yzg4MWM3MzMtNDE4YS0xMWU5LWJmNTYtZm...   1-89239   \n",
       "\n",
       "                                                     title   createdAt  \\\n",
       "2739993                           UNE DEMOCRATIE EQUITABLE  2019-03-08   \n",
       "2739994                                        Pragmatiqme  2019-03-08   \n",
       "2739995                                    Revision totale  2019-03-08   \n",
       "2739996                 Trop d'élus qui ne servent à rien!  2019-03-08   \n",
       "2739997  Pourun juste équilibre entre représentation et...  2019-03-08   \n",
       "\n",
       "        publishedAt updatedAt  trashed trashedStatus  \\\n",
       "2739993  2019-03-08       NaN    False           NaN   \n",
       "2739994  2019-03-08       NaN    False           NaN   \n",
       "2739995  2019-03-08       NaN    False           NaN   \n",
       "2739996  2019-03-08       NaN    False           NaN   \n",
       "2739997  2019-03-08       NaN    False           NaN   \n",
       "\n",
       "                                                  authorId    ...     \\\n",
       "2739993  VXNlcjo0ZWQ2YmFiMS0zZDk0LTExZTktYmY1Ni1mYTE2M2...    ...      \n",
       "2739994  VXNlcjplMmIyNzljZi00MTgxLTExZTktYmY1Ni1mYTE2M2...    ...      \n",
       "2739995  VXNlcjoxMTRmNzk1OC00MTgyLTExZTktYmY1Ni1mYTE2M2...    ...      \n",
       "2739996  VXNlcjoxOWZhYzQ1Yi0xZmQ2LTExZTktOTRkMi1mYTE2M2...    ...      \n",
       "2739997  VXNlcjo2NTY2N2ZiNC00MTgzLTExZTktYmY1Ni1mYTE2M2...    ...      \n",
       "\n",
       "                                                  question positivity  \\\n",
       "2739993  Y a-t-il d'autres points sur la démocratie et ...        0.0   \n",
       "2739994  Y a-t-il d'autres points sur la démocratie et ...        0.0   \n",
       "2739995  Y a-t-il d'autres points sur la démocratie et ...        0.0   \n",
       "2739996  Y a-t-il d'autres points sur la démocratie et ...        0.0   \n",
       "2739997  Y a-t-il d'autres points sur la démocratie et ...        0.0   \n",
       "\n",
       "        intensity sentiment                                   source  \\\n",
       "2739993       0.0       0.0  Grand debat - democratie et citoyennete   \n",
       "2739994       0.0       0.0  Grand debat - democratie et citoyennete   \n",
       "2739995       0.0       0.0  Grand debat - democratie et citoyennete   \n",
       "2739996       0.0       0.0  Grand debat - democratie et citoyennete   \n",
       "2739997       0.0       0.0  Grand debat - democratie et citoyennete   \n",
       "\n",
       "         departement  city codes_postaux latitude longitude  \n",
       "2739993          NaN   NaN           NaN      NaN       NaN  \n",
       "2739994          NaN   NaN           NaN      NaN       NaN  \n",
       "2739995          NaN   NaN           NaN      NaN       NaN  \n",
       "2739996          NaN   NaN           NaN      NaN       NaN  \n",
       "2739997          NaN   NaN           NaN      NaN       NaN  \n",
       "\n",
       "[5 rows x 23 columns]"
      ]
     },
     "execution_count": 6,
     "metadata": {},
     "output_type": "execute_result"
    }
   ],
   "source": [
    "df_elastic.tail()"
   ]
  },
  {
   "cell_type": "code",
   "execution_count": null,
   "metadata": {},
   "outputs": [],
   "source": [
    "df_elastic[df_elastic['latitude'].isna()][\"authorZipCode\"].value_counts().head()"
   ]
  },
  {
   "cell_type": "code",
   "execution_count": 9,
   "metadata": {},
   "outputs": [],
   "source": [
    "df_elastic['source']='Grand débat - démocratie et citoyenneté'\n",
    "df_elastic.to_csv(\"democratie_enriched.csv\", encoding='utf-8', index=False)"
   ]
  },
  {
   "cell_type": "markdown",
   "metadata": {},
   "source": [
    "## json writing for elasticsearch"
   ]
  },
  {
   "cell_type": "markdown",
   "metadata": {},
   "source": [
    "elastic search requires a special format of json"
   ]
  },
  {
   "cell_type": "code",
   "execution_count": 10,
   "metadata": {},
   "outputs": [],
   "source": [
    "df_elastic = pd.read_csv('democratie_enriched.csv', encoding='utf-8', engine='python')"
   ]
  },
  {
   "cell_type": "code",
   "execution_count": 11,
   "metadata": {},
   "outputs": [
    {
     "data": {
      "text/plain": [
       "1"
      ]
     },
     "execution_count": 11,
     "metadata": {},
     "output_type": "execute_result"
    }
   ],
   "source": [
    "f = open(\"democratie_base_pre_es.json\", \"w\")\n",
    "\n",
    "for row in df_elastic.iterrows():\n",
    "    row[1].to_json(f, orient='index', force_ascii=True)\n",
    "    f.write(\"\\n\")\n",
    "f.write(\"\\n\")"
   ]
  },
  {
   "cell_type": "markdown",
   "metadata": {},
   "source": [
    "## Ingestion in elasticsearch"
   ]
  },
  {
   "cell_type": "code",
   "execution_count": 14,
   "metadata": {},
   "outputs": [],
   "source": [
    "try : \n",
    "    df_elastic['trashed'] = np.where((df_elastic['trashed'] =='True') & (df_elastic['trashed'] =='False'),True,False)\n",
    "except:\n",
    "\n",
    "with open('./democratie_base_pre_es.json', 'r') as r, open('./democratie_base_es.json', 'w') as w:    \n",
    "    for num, line in enumerate(r):\n",
    "        if line[0]!='[' and line[0]!=']':\n",
    "            newline = '{\"index\":{\"_id\":'+ '\"d_' + str(num)+'\"}}'+'\\n'\n",
    "            if line[0]=='\\n':\n",
    "                newline='\\n'\n",
    "            elif line[-2]== ',':\n",
    "                newline += line[:-2] + \"\\n\" if \"\\n\" in line else line[:-1]\n",
    "            else:\n",
    "                newline += line[:-1] + \"\\n\" if \"\\n\" in line else line[:-1]\n",
    "        else:\n",
    "            newline = ''               \n",
    "        w.write(newline)\n",
    "        "
   ]
  },
  {
   "cell_type": "markdown",
   "metadata": {},
   "source": [
    "Then we perform the queries directly in curl to index data. \n",
    "Ex:\n",
    "\n",
    "```curl \n",
    "curl -u username:password elasticsearch_endpoint_url/democratie/default/_bulk -H \"Content-Type: application/x-ndjson\" -XPOST --data-binary \"@democratie_base_es_1.json\"\n",
    "ping 127.0.0.1 -n 6 > nul```\n"
   ]
  },
  {
   "cell_type": "markdown",
   "metadata": {},
   "source": [
    "Tips: the `ping` part is used to force the terminal to wait between ingestions"
   ]
  }
 ],
 "metadata": {
  "kernelspec": {
   "display_name": "Python 3",
   "language": "python",
   "name": "python3"
  },
  "language_info": {
   "codemirror_mode": {
    "name": "ipython",
    "version": 3
   },
   "file_extension": ".py",
   "mimetype": "text/x-python",
   "name": "python",
   "nbconvert_exporter": "python",
   "pygments_lexer": "ipython3",
   "version": "3.6.5"
  }
 },
 "nbformat": 4,
 "nbformat_minor": 2
}
